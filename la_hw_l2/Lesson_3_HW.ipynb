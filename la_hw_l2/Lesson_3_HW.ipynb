{
 "cells": [
  {
   "cell_type": "markdown",
   "metadata": {
    "colab_type": "text",
    "id": "HPMpEWusIIIM"
   },
   "source": [
    "# Урок 3"
   ]
  },
  {
   "cell_type": "markdown",
   "metadata": {
    "colab_type": "text",
    "id": "USFuS5Q1IIIP"
   },
   "source": [
    "# Матрицы и матричные операции. Часть 1"
   ]
  },
  {
   "cell_type": "markdown",
   "metadata": {
    "colab_type": "text",
    "id": "VAmOu--LIILw"
   },
   "source": [
    "## Практическое задание"
   ]
  },
  {
   "cell_type": "code",
   "execution_count": 4,
   "metadata": {},
   "outputs": [],
   "source": [
    "import numpy as np"
   ]
  },
  {
   "cell_type": "markdown",
   "metadata": {
    "colab_type": "text",
    "id": "APeDlmh8IIL1"
   },
   "source": [
    "Все задания рекомендуется делать вручную, затем проверяя полученные результаты с использованием numpy.\n",
    "\n",
    "__1.__ Установить, какие произведения матриц $AB$ и $BA$ определены, и найти размерности полученных матриц:\n",
    "\n",
    "   а) $A$ — матрица $4\\times 2$, $B$ — матрица $4\\times 2$;\n",
    "    "
   ]
  },
  {
   "cell_type": "markdown",
   "metadata": {},
   "source": [
    "Произведения матриц А и В не определено:\n",
    "\n",
    "$$ \\begin{pmatrix}\n",
    "1 & 2 & 3 & 4\\\\\n",
    "5 & 6 & 7 & 8\n",
    "\\end{pmatrix} \\cdot \\begin{pmatrix}\n",
    "8 & 7 & 6 & 5\\\\\n",
    "4 & 3 & 2 & 1\n",
    "\\end{pmatrix}= \\begin{pmatrix}\n",
    "1\\cdot8+2\\cdot4+3\\cdot ??\\\\\n",
    "\\cdots\n",
    "\\end{pmatrix}$$\n",
    "\n",
    "Произведения матриц В и А так же не определено"
   ]
  },
  {
   "cell_type": "code",
   "execution_count": 9,
   "metadata": {},
   "outputs": [
    {
     "ename": "ValueError",
     "evalue": "shapes (2,4) and (2,4) not aligned: 4 (dim 1) != 2 (dim 0)",
     "output_type": "error",
     "traceback": [
      "\u001b[0;31m---------------------------------------------------------------------------\u001b[0m",
      "\u001b[0;31mValueError\u001b[0m                                Traceback (most recent call last)",
      "\u001b[0;32m<ipython-input-9-8f20dce580a2>\u001b[0m in \u001b[0;36m<module>\u001b[0;34m\u001b[0m\n\u001b[1;32m      1\u001b[0m \u001b[0mA\u001b[0m \u001b[0;34m=\u001b[0m \u001b[0mnp\u001b[0m\u001b[0;34m.\u001b[0m\u001b[0marray\u001b[0m\u001b[0;34m(\u001b[0m\u001b[0;34m[\u001b[0m\u001b[0;34m[\u001b[0m\u001b[0;36m1\u001b[0m\u001b[0;34m,\u001b[0m\u001b[0;36m2\u001b[0m\u001b[0;34m,\u001b[0m\u001b[0;36m3\u001b[0m\u001b[0;34m,\u001b[0m\u001b[0;36m4\u001b[0m\u001b[0;34m]\u001b[0m\u001b[0;34m,\u001b[0m\u001b[0;34m[\u001b[0m\u001b[0;36m5\u001b[0m\u001b[0;34m,\u001b[0m\u001b[0;36m6\u001b[0m\u001b[0;34m,\u001b[0m\u001b[0;36m7\u001b[0m\u001b[0;34m,\u001b[0m\u001b[0;36m8\u001b[0m\u001b[0;34m]\u001b[0m\u001b[0;34m]\u001b[0m\u001b[0;34m)\u001b[0m\u001b[0;34m\u001b[0m\u001b[0;34m\u001b[0m\u001b[0m\n\u001b[1;32m      2\u001b[0m \u001b[0mB\u001b[0m \u001b[0;34m=\u001b[0m \u001b[0mnp\u001b[0m\u001b[0;34m.\u001b[0m\u001b[0marray\u001b[0m\u001b[0;34m(\u001b[0m\u001b[0;34m[\u001b[0m\u001b[0;34m[\u001b[0m\u001b[0;36m8\u001b[0m\u001b[0;34m,\u001b[0m\u001b[0;36m7\u001b[0m\u001b[0;34m,\u001b[0m\u001b[0;36m6\u001b[0m\u001b[0;34m,\u001b[0m\u001b[0;36m5\u001b[0m\u001b[0;34m]\u001b[0m\u001b[0;34m,\u001b[0m\u001b[0;34m[\u001b[0m\u001b[0;36m4\u001b[0m\u001b[0;34m,\u001b[0m\u001b[0;36m3\u001b[0m\u001b[0;34m,\u001b[0m\u001b[0;36m2\u001b[0m\u001b[0;34m,\u001b[0m\u001b[0;36m1\u001b[0m\u001b[0;34m]\u001b[0m\u001b[0;34m]\u001b[0m\u001b[0;34m)\u001b[0m\u001b[0;34m\u001b[0m\u001b[0;34m\u001b[0m\u001b[0m\n\u001b[0;32m----> 3\u001b[0;31m \u001b[0mprint\u001b[0m\u001b[0;34m(\u001b[0m\u001b[0mA\u001b[0m\u001b[0;34m.\u001b[0m\u001b[0mdot\u001b[0m\u001b[0;34m(\u001b[0m\u001b[0mB\u001b[0m\u001b[0;34m)\u001b[0m\u001b[0;34m)\u001b[0m\u001b[0;34m\u001b[0m\u001b[0;34m\u001b[0m\u001b[0m\n\u001b[0m\u001b[1;32m      4\u001b[0m \u001b[0mprint\u001b[0m\u001b[0;34m(\u001b[0m\u001b[0mB\u001b[0m\u001b[0;34m.\u001b[0m\u001b[0mdot\u001b[0m\u001b[0;34m(\u001b[0m\u001b[0mA\u001b[0m\u001b[0;34m)\u001b[0m\u001b[0;34m)\u001b[0m\u001b[0;34m\u001b[0m\u001b[0;34m\u001b[0m\u001b[0m\n",
      "\u001b[0;31mValueError\u001b[0m: shapes (2,4) and (2,4) not aligned: 4 (dim 1) != 2 (dim 0)"
     ]
    }
   ],
   "source": [
    "A = np.array([[1,2,3,4],[5,6,7,8]])\n",
    "B = np.array([[8,7,6,5],[4,3,2,1]])\n",
    "print(A.dot(B))"
   ]
  },
  {
   "cell_type": "code",
   "execution_count": 11,
   "metadata": {},
   "outputs": [
    {
     "ename": "ValueError",
     "evalue": "shapes (5,3) and (2,5) not aligned: 3 (dim 1) != 2 (dim 0)",
     "output_type": "error",
     "traceback": [
      "\u001b[0;31m---------------------------------------------------------------------------\u001b[0m",
      "\u001b[0;31mValueError\u001b[0m                                Traceback (most recent call last)",
      "\u001b[0;32m<ipython-input-11-bd85bdc9bf98>\u001b[0m in \u001b[0;36m<module>\u001b[0;34m\u001b[0m\n\u001b[0;32m----> 1\u001b[0;31m \u001b[0mprint\u001b[0m\u001b[0;34m(\u001b[0m\u001b[0mB\u001b[0m\u001b[0;34m.\u001b[0m\u001b[0mdot\u001b[0m\u001b[0;34m(\u001b[0m\u001b[0mA\u001b[0m\u001b[0;34m)\u001b[0m\u001b[0;34m)\u001b[0m\u001b[0;34m\u001b[0m\u001b[0;34m\u001b[0m\u001b[0m\n\u001b[0m",
      "\u001b[0;31mValueError\u001b[0m: shapes (5,3) and (2,5) not aligned: 3 (dim 1) != 2 (dim 0)"
     ]
    }
   ],
   "source": [
    "print(B.dot(A))"
   ]
  },
  {
   "cell_type": "markdown",
   "metadata": {},
   "source": [
    "   б) $A$ — матрица $2\\times 5$, $B$ — матрица $5\\times 3$;\n"
   ]
  },
  {
   "cell_type": "markdown",
   "metadata": {},
   "source": [
    "Произведения матриц А и В определено как матрица С размера $2\\times3$:\n",
    "\n",
    "$$\\begin{pmatrix}\n",
    "1 & 2 & 3 & 4 & 5\\\\\n",
    "6 & 7 & 8 & 9 & 0\n",
    "\\end{pmatrix} \\cdot \\begin{pmatrix}\n",
    "8 & 7 & 6\\\\\n",
    "5 & 4 & 3\\\\\n",
    "2 & 1 & 0\\\\\n",
    "1 & 2 & 3\\\\\n",
    "4 & 5 & 6\n",
    "\\end{pmatrix} = \n",
    "\\begin{pmatrix}\n",
    "1\\cdot8+2\\cdot5+3\\cdot2+4\\cdot1+5\\cdot4 1\\cdot7+2\\cdot4+3\\cdot1+4\\cdot2+5\\cdot5 1\\cdot6+2\\cdot3+3\\cdot0+4\\cdot3+5\\cdot6\\\\\n",
    "6\\cdot8+7\\cdot5+8\\cdot2+9\\cdot1+0\\cdot4 6\\cdot7+7\\cdot4+8\\cdot1+9\\cdot2+0\\cdot5 6\\cdot6+7\\cdot3+8\\cdot0+9\\cdot3+0\\cdot6\n",
    "\\end{pmatrix} = \n",
    "\\begin{pmatrix}\n",
    "48 & 51 & 54\\\\\n",
    "108 & 96 & 84 \n",
    "\\end{pmatrix}$$"
   ]
  },
  {
   "cell_type": "code",
   "execution_count": 10,
   "metadata": {},
   "outputs": [
    {
     "data": {
      "text/plain": [
       "array([[ 48,  51,  54],\n",
       "       [108,  96,  84]])"
      ]
     },
     "execution_count": 10,
     "metadata": {},
     "output_type": "execute_result"
    }
   ],
   "source": [
    "A = np.array([[1,2,3,4,5],[6,7,8,9,0]])\n",
    "B = np.array([[8,7,6],[5,4,3],[2,1,0],[1,2,3],[4,5,6]])\n",
    "A.dot(B)"
   ]
  },
  {
   "cell_type": "markdown",
   "metadata": {},
   "source": [
    "Произведения матриц В и А не определено:\n",
    "\n",
    "$$\\begin{pmatrix}\n",
    "8 & 7 & 6\\\\\n",
    "5 & 4 & 3\\\\\n",
    "2 & 1 & 0\\\\\n",
    "1 & 2 & 3\\\\\n",
    "4 & 5 & 6\n",
    "\\end{pmatrix} \\cdot \\begin{pmatrix}\n",
    "1 & 2 & 3 & 4 & 5\\\\\n",
    "6 & 7 & 8 & 9 & 0\n",
    "\\end{pmatrix} = \n",
    "\\begin{pmatrix}\n",
    "8\\cdot1+7\\cdot6+6\\cdot??\\\\\n",
    "\\dots\n",
    "\\end{pmatrix}$$"
   ]
  },
  {
   "cell_type": "code",
   "execution_count": 12,
   "metadata": {},
   "outputs": [
    {
     "ename": "ValueError",
     "evalue": "shapes (5,3) and (2,5) not aligned: 3 (dim 1) != 2 (dim 0)",
     "output_type": "error",
     "traceback": [
      "\u001b[0;31m---------------------------------------------------------------------------\u001b[0m",
      "\u001b[0;31mValueError\u001b[0m                                Traceback (most recent call last)",
      "\u001b[0;32m<ipython-input-12-d482a1f78eb8>\u001b[0m in \u001b[0;36m<module>\u001b[0;34m\u001b[0m\n\u001b[0;32m----> 1\u001b[0;31m \u001b[0mB\u001b[0m\u001b[0;34m.\u001b[0m\u001b[0mdot\u001b[0m\u001b[0;34m(\u001b[0m\u001b[0mA\u001b[0m\u001b[0;34m)\u001b[0m\u001b[0;34m\u001b[0m\u001b[0;34m\u001b[0m\u001b[0m\n\u001b[0m",
      "\u001b[0;31mValueError\u001b[0m: shapes (5,3) and (2,5) not aligned: 3 (dim 1) != 2 (dim 0)"
     ]
    }
   ],
   "source": [
    "B.dot(A)"
   ]
  },
  {
   "cell_type": "markdown",
   "metadata": {},
   "source": [
    "    \n",
    "   в) $A$ — матрица $8\\times 3$, $B$ — матрица $3\\times 8$;\n"
   ]
  },
  {
   "cell_type": "markdown",
   "metadata": {},
   "source": [
    "Произведения матриц А и В определено как матрица С размера $8\\times8$:\n",
    "\n",
    "$$\\begin{pmatrix}\n",
    "8 & 7 & 6\\\\\n",
    "5 & 4 & 3\\\\\n",
    "2 & 1 & 0\\\\\n",
    "1 & 2 & 3\\\\\n",
    "4 & 5 & 6\\\\\n",
    "7 & 8 & 9\\\\\n",
    "0 & 1 & 2\\\\\n",
    "3 & 4 & 5\n",
    "\\end{pmatrix} \\cdot\n",
    "\\begin{pmatrix}\n",
    "1 & 2 & 3 & 4 & 5 & 6 & 7 & 8\\\\\n",
    "9 & 0 & 1 & 2 & 3 & 4 & 5 & 6\\\\\n",
    "7 & 8 & 9 & 0 & 1 & 2 & 3 & 4\n",
    "\\end{pmatrix} = \n",
    "\\begin{pmatrix}\n",
    "8\\cdot1+7\\cdot9+6\\cdot7 & 8\\cdot2+7\\cdot0+6\\cdot8 & 8\\cdot3+7\\cdot1+6\\cdot9 & 8\\cdot4+7\\cdot2+6\\cdot0 8\\cdot5+7\\cdot3+6\\cdot1 & 8\\cdot6+7\\cdot4+6\\cdot2 & 8\\cdot7+7\\cdot5+6\\cdot3 & 8\\cdot8+7\\cdot6+6\\cdot4\\\\\n",
    "8\\cdot1+7\\cdot9+6\\cdot7 & 8\\cdot2+7\\cdot0+6\\cdot8 & 8\\cdot3+7\\cdot1+6\\cdot9 & 8\\cdot4+7\\cdot2+6\\cdot0 8\\cdot5+7\\cdot3+6\\cdot1 & 8\\cdot6+7\\cdot4+6\\cdot2 & 8\\cdot7+7\\cdot5+6\\cdot3 & 8\\cdot8+7\\cdot6+6\\cdot4\\\\\n",
    "8\\cdot1+7\\cdot9+6\\cdot7 & 8\\cdot2+7\\cdot0+6\\cdot8 & 8\\cdot3+7\\cdot1+6\\cdot9 & 8\\cdot4+7\\cdot2+6\\cdot0 8\\cdot5+7\\cdot3+6\\cdot1 & 8\\cdot6+7\\cdot4+6\\cdot2 & 8\\cdot7+7\\cdot5+6\\cdot3 & 8\\cdot8+7\\cdot6+6\\cdot4\\\\\n",
    "8\\cdot1+7\\cdot9+6\\cdot7 & 8\\cdot2+7\\cdot0+6\\cdot8 & 8\\cdot3+7\\cdot1+6\\cdot9 & 8\\cdot4+7\\cdot2+6\\cdot0 8\\cdot5+7\\cdot3+6\\cdot1 & 8\\cdot6+7\\cdot4+6\\cdot2 & 8\\cdot7+7\\cdot5+6\\cdot3 & 8\\cdot8+7\\cdot6+6\\cdot4\\\\\n",
    "8\\cdot1+7\\cdot9+6\\cdot7 & 8\\cdot2+7\\cdot0+6\\cdot8 & 8\\cdot3+7\\cdot1+6\\cdot9 & 8\\cdot4+7\\cdot2+6\\cdot0 8\\cdot5+7\\cdot3+6\\cdot1 & 8\\cdot6+7\\cdot4+6\\cdot2 & 8\\cdot7+7\\cdot5+6\\cdot3 & 8\\cdot8+7\\cdot6+6\\cdot4\\\\\n",
    "8\\cdot1+7\\cdot9+6\\cdot7 & 8\\cdot2+7\\cdot0+6\\cdot8 & 8\\cdot3+7\\cdot1+6\\cdot9 & 8\\cdot4+7\\cdot2+6\\cdot0 8\\cdot5+7\\cdot3+6\\cdot1 & 8\\cdot6+7\\cdot4+6\\cdot2 & 8\\cdot7+7\\cdot5+6\\cdot3 & 8\\cdot8+7\\cdot6+6\\cdot4\\\\\n",
    "8\\cdot1+7\\cdot9+6\\cdot7 & 8\\cdot2+7\\cdot0+6\\cdot8 & 8\\cdot3+7\\cdot1+6\\cdot9 & 8\\cdot4+7\\cdot2+6\\cdot0 8\\cdot5+7\\cdot3+6\\cdot1 & 8\\cdot6+7\\cdot4+6\\cdot2 & 8\\cdot7+7\\cdot5+6\\cdot3 & 8\\cdot8+7\\cdot6+6\\cdot4\\\\\n",
    "8\\cdot1+7\\cdot9+6\\cdot7 & 8\\cdot2+7\\cdot0+6\\cdot8 & 8\\cdot3+7\\cdot1+6\\cdot9 & 8\\cdot4+7\\cdot2+6\\cdot0 8\\cdot5+7\\cdot3+6\\cdot1 & 8\\cdot6+7\\cdot4+6\\cdot2 & 8\\cdot7+7\\cdot5+6\\cdot3 & 8\\cdot8+7\\cdot6+6\\cdot4\n",
    "\\end{pmatrix} = \n",
    "\\begin{pmatrix}\n",
    "113 & 64 & 85 & 46 & 67 & 88 & 109 & 130\\\\\n",
    "62 & 34 &  46 &  28 &  40 &  52 &  64 &  76\\\\\n",
    "11 &  4 &   7 &   10 &  13 &  16 &   19 &   22\\\\\n",
    "40 & 26 &  32 &   8 &  14 & 20 &   26 &  32\\\\\n",
    "91 & 56 & 71 &  26 &  41 & 56 &   71 &   86\\\\\n",
    "142 & 86 & 110 &  44 &  68 &  92 &  116 &  140\\\\\n",
    "23 & 16 &  19 &   2 &  5 & 8&  11 &   14\\\\\n",
    "74 & 46 & 58 &  20 &  32 & 44&  56 &  68\n",
    "\\end{pmatrix}$$"
   ]
  },
  {
   "cell_type": "code",
   "execution_count": 13,
   "metadata": {},
   "outputs": [
    {
     "data": {
      "text/plain": [
       "array([[113,  64,  85,  46,  67,  88, 109, 130],\n",
       "       [ 62,  34,  46,  28,  40,  52,  64,  76],\n",
       "       [ 11,   4,   7,  10,  13,  16,  19,  22],\n",
       "       [ 40,  26,  32,   8,  14,  20,  26,  32],\n",
       "       [ 91,  56,  71,  26,  41,  56,  71,  86],\n",
       "       [142,  86, 110,  44,  68,  92, 116, 140],\n",
       "       [ 23,  16,  19,   2,   5,   8,  11,  14],\n",
       "       [ 74,  46,  58,  20,  32,  44,  56,  68]])"
      ]
     },
     "execution_count": 13,
     "metadata": {},
     "output_type": "execute_result"
    }
   ],
   "source": [
    "A = np.array([[8,7,6],[5,4,3],[2,1,0],[1,2,3],[4,5,6],[7,8,9],[0,1,2],[3,4,5]])\n",
    "B = np.array([[1,2,3,4,5,6,7,8],[9,0,1,2,3,4,5,6],[7,8,9,0,1,2,3,4]])\n",
    "A.dot(B)"
   ]
  },
  {
   "cell_type": "markdown",
   "metadata": {},
   "source": [
    "Произведение матриц В и А определено как матрица С размера $3\\times3$:\n",
    "$$\\begin{pmatrix}\n",
    "1 & 2 & 3 & 4 & 5 & 6 & 7 & 8\\\\\n",
    "9 & 0 & 1 & 2 & 3 & 4 & 5 & 6\\\\\n",
    "7 & 8 & 9 & 0 & 1 & 2 & 3 & 4\n",
    "\\end{pmatrix} \\cdot\n",
    "\\begin{pmatrix}\n",
    "8 & 7 & 6\\\\\n",
    "5 & 4 & 3\\\\\n",
    "2 & 1 & 0\\\\\n",
    "1 & 2 & 3\\\\\n",
    "4 & 5 & 6\\\\\n",
    "7 & 8 & 9\\\\\n",
    "0 & 1 & 2\\\\\n",
    "3 & 4 & 5\n",
    "\\end{pmatrix}= \n",
    "\\begin{pmatrix}\n",
    "1\\cdot8+2\\cdot5+3\\cdot2+4\\cdot1+5\\cdot4+6\\cdot7+7\\cdot0+8\\cdot3 & 1\\cdot8+2\\cdot5+3\\cdot2+4\\cdot1+5\\cdot4+6\\cdot7+7\\cdot0+8\\cdot3 & 1\\cdot8+2\\cdot5+3\\cdot2+4\\cdot1+5\\cdot4+6\\cdot7+7\\cdot0+8\\cdot3\\\\\n",
    "1\\cdot8+2\\cdot5+3\\cdot2+4\\cdot1+5\\cdot4+6\\cdot7+7\\cdot0+8\\cdot3 & 1\\cdot8+2\\cdot5+3\\cdot2+4\\cdot1+5\\cdot4+6\\cdot7+7\\cdot0+8\\cdot3 & 1\\cdot8+2\\cdot5+3\\cdot2+4\\cdot1+5\\cdot4+6\\cdot7+7\\cdot0+8\\cdot3\\\\\n",
    "1\\cdot8+2\\cdot5+3\\cdot2+4\\cdot1+5\\cdot4+6\\cdot7+7\\cdot0+8\\cdot3 & 1\\cdot8+2\\cdot5+3\\cdot2+4\\cdot1+5\\cdot4+6\\cdot7+7\\cdot0+8\\cdot3 & 1\\cdot8+2\\cdot5+3\\cdot2+4\\cdot1+5\\cdot4+6\\cdot7+7\\cdot0+8\\cdot3\n",
    "\\end{pmatrix} = \n",
    "\\begin{pmatrix}\n",
    "114 & 138 & 162\\\\\n",
    "134 & 144 & 154\\\\\n",
    "144 & 130 & 116\n",
    "\\end{pmatrix}$$\n"
   ]
  },
  {
   "cell_type": "code",
   "execution_count": 14,
   "metadata": {},
   "outputs": [
    {
     "data": {
      "text/plain": [
       "array([[114, 138, 162],\n",
       "       [134, 144, 154],\n",
       "       [144, 130, 116]])"
      ]
     },
     "execution_count": 14,
     "metadata": {},
     "output_type": "execute_result"
    }
   ],
   "source": [
    "B.dot(A)"
   ]
  },
  {
   "cell_type": "markdown",
   "metadata": {},
   "source": [
    "    \n",
    "   г) $A$ — квадратная матрица $4\\times 4$, $B$ — квадратная матрица $4\\times 4$.\n"
   ]
  },
  {
   "cell_type": "markdown",
   "metadata": {},
   "source": [
    "Произведения матриц А и В определено как матрица С размера $4\\times4$:\n",
    "$$\\begin{pmatrix}\n",
    "1 & 2 & 3 & 4\\\\\n",
    "4 & 3 & 2 & 1\\\\\n",
    "1 & 2 & 3 & 4\\\\\n",
    "4 & 3 & 2 & 1\n",
    "\\end{pmatrix} \\cdot\n",
    "\\begin{pmatrix}\n",
    "4 & 3 & 2 & 1\\\\\n",
    "1 & 2 & 3 & 4\\\\\n",
    "4 & 3 & 2 & 1\\\\\n",
    "1 & 2 & 3 & 4\n",
    "\\end{pmatrix} = \n",
    "\\begin{pmatrix}\n",
    "1\\cdot4+2\\cdot1+3\\cdot4+4\\cdot1 & 1\\cdot4+2\\cdot1+3\\cdot4+4\\cdot1 & 1\\cdot4+2\\cdot1+3\\cdot4+4\\cdot1 & 1\\cdot4+2\\cdot1+3\\cdot4+4\\cdot1\\\\\n",
    "1\\cdot4+2\\cdot1+3\\cdot4+4\\cdot1 & 1\\cdot4+2\\cdot1+3\\cdot4+4\\cdot1 & 1\\cdot4+2\\cdot1+3\\cdot4+4\\cdot1 & 1\\cdot4+2\\cdot1+3\\cdot4+4\\cdot1\\\\\n",
    "1\\cdot4+2\\cdot1+3\\cdot4+4\\cdot1 & 1\\cdot4+2\\cdot1+3\\cdot4+4\\cdot1 & 1\\cdot4+2\\cdot1+3\\cdot4+4\\cdot1 & 1\\cdot4+2\\cdot1+3\\cdot4+4\\cdot1\\\\\n",
    "1\\cdot4+2\\cdot1+3\\cdot4+4\\cdot1 & 1\\cdot4+2\\cdot1+3\\cdot4+4\\cdot1 & 1\\cdot4+2\\cdot1+3\\cdot4+4\\cdot1 & 1\\cdot4+2\\cdot1+3\\cdot4+4\\cdot1\n",
    "\\end{pmatrix} = \n",
    "\\begin{pmatrix}\n",
    "22&24&26&28\\\\\n",
    "28&26&24&22\\\\\n",
    "22&24&26&28\\\\\n",
    "28&26&24&22\n",
    "\\end{pmatrix}$$"
   ]
  },
  {
   "cell_type": "code",
   "execution_count": 15,
   "metadata": {},
   "outputs": [
    {
     "data": {
      "text/plain": [
       "array([[22, 24, 26, 28],\n",
       "       [28, 26, 24, 22],\n",
       "       [22, 24, 26, 28],\n",
       "       [28, 26, 24, 22]])"
      ]
     },
     "execution_count": 15,
     "metadata": {},
     "output_type": "execute_result"
    }
   ],
   "source": [
    "A =np.array([[1,2,3,4],[4,3,2,1],[1,2,3,4],[4,3,2,1]])\n",
    "B =np.array([[4,3,2,1],[1,2,3,4],[4,3,2,1],[1,2,3,4]])\n",
    "A.dot(B)"
   ]
  },
  {
   "cell_type": "markdown",
   "metadata": {},
   "source": [
    "Произведения матриц В и А определено как матрица С размера $4\\times4$:\n",
    "$$\\begin{pmatrix}\n",
    "4 & 3 & 2 & 1\\\\\n",
    "4 & 3 & 2 & 1\\\\\n",
    "1 & 2 & 3 & 4\\\\\n",
    "4 & 3 & 2 & 1\n",
    "\\end{pmatrix} \\cdot\n",
    "\\begin{pmatrix}\n",
    "1 & 2 & 3 & 4\\\\\n",
    "1 & 2 & 3 & 4\\\\\n",
    "4 & 3 & 2 & 1\\\\\n",
    "1 & 2 & 3 & 4\n",
    "\\end{pmatrix} = \n",
    "\\begin{pmatrix}\n",
    "1\\cdot4+2\\cdot1+3\\cdot4+4\\cdot1 & 1\\cdot4+2\\cdot1+3\\cdot4+4\\cdot1 & 1\\cdot4+2\\cdot1+3\\cdot4+4\\cdot1 & 1\\cdot4+2\\cdot1+3\\cdot4+4\\cdot1\\\\\n",
    "1\\cdot4+2\\cdot1+3\\cdot4+4\\cdot1 & 1\\cdot4+2\\cdot1+3\\cdot4+4\\cdot1 & 1\\cdot4+2\\cdot1+3\\cdot4+4\\cdot1 & 1\\cdot4+2\\cdot1+3\\cdot4+4\\cdot1\\\\\n",
    "1\\cdot4+2\\cdot1+3\\cdot4+4\\cdot1 & 1\\cdot4+2\\cdot1+3\\cdot4+4\\cdot1 & 1\\cdot4+2\\cdot1+3\\cdot4+4\\cdot1 & 1\\cdot4+2\\cdot1+3\\cdot4+4\\cdot1\\\\\n",
    "1\\cdot4+2\\cdot1+3\\cdot4+4\\cdot1 & 1\\cdot4+2\\cdot1+3\\cdot4+4\\cdot1 & 1\\cdot4+2\\cdot1+3\\cdot4+4\\cdot1 & 1\\cdot4+2\\cdot1+3\\cdot4+4\\cdot1\n",
    "\\end{pmatrix} = \n",
    "\\begin{pmatrix}\n",
    "22&24&26&28\\\\\n",
    "28&26&24&22\\\\\n",
    "22&24&26&28\\\\\n",
    "28&26&24&22\n",
    "\\end{pmatrix}$$"
   ]
  },
  {
   "cell_type": "code",
   "execution_count": 16,
   "metadata": {},
   "outputs": [
    {
     "data": {
      "text/plain": [
       "array([[22, 24, 26, 28],\n",
       "       [28, 26, 24, 22],\n",
       "       [22, 24, 26, 28],\n",
       "       [28, 26, 24, 22]])"
      ]
     },
     "execution_count": 16,
     "metadata": {},
     "output_type": "execute_result"
    }
   ],
   "source": [
    "B.dot(A)"
   ]
  },
  {
   "cell_type": "markdown",
   "metadata": {},
   "source": [
    "__2.__ Найти сумму и произведение матриц $A=\\begin{pmatrix}\n",
    "1 & -2\\\\ \n",
    "3 & 0\n",
    "\\end{pmatrix}$ и $B=\\begin{pmatrix}\n",
    "4 & -1\\\\ \n",
    "0 & 5\n",
    "\\end{pmatrix}.$"
   ]
  },
  {
   "cell_type": "markdown",
   "metadata": {},
   "source": [
    "$$\\begin{pmatrix}\n",
    "1 & -2\\\\ \n",
    "3 & 0\n",
    "\\end{pmatrix} + \n",
    "\\begin{pmatrix}\n",
    "4 & -1\\\\ \n",
    "0 & 5\n",
    "\\end{pmatrix} = \n",
    "\\begin{pmatrix}\n",
    "1+4&-2-1\\\\\n",
    "3+0&0+5\n",
    "\\end{pmatrix} = \n",
    "\\begin{pmatrix}\n",
    "5&-3\\\\\n",
    "3&5\n",
    "\\end{pmatrix}\n",
    "$$\n",
    "\n",
    "$$\\begin{pmatrix}\n",
    "1 & -2\\\\ \n",
    "3 & 0\n",
    "\\end{pmatrix} \\cdot\n",
    "\\begin{pmatrix}\n",
    "4 & -1\\\\ \n",
    "0 & 5\n",
    "\\end{pmatrix} = \n",
    "\\begin{pmatrix}\n",
    "1\\cdot4+(-2)\\cdot0 & 1\\cdot(-1)+(-2)\\cdot5\\\\\n",
    "3\\cdot4+0\\cdot0 & 3\\cdot(-1)+0\\cdot5\n",
    "\\end{pmatrix} = \n",
    "\\begin{pmatrix}\n",
    "4&-11\\\\\n",
    "12&-3\n",
    "\\end{pmatrix}\n",
    "$$"
   ]
  },
  {
   "cell_type": "code",
   "execution_count": 19,
   "metadata": {},
   "outputs": [
    {
     "name": "stdout",
     "output_type": "stream",
     "text": [
      "[[ 5 -3]\n",
      " [ 3  5]]\n",
      "[[  4 -11]\n",
      " [ 12  -3]]\n"
     ]
    }
   ],
   "source": [
    "A=np.array([[1,-2],[3,0]])\n",
    "B=np.array([[4,-1],[0,5]])\n",
    "print(A+B)\n",
    "print(A.dot(B))"
   ]
  },
  {
   "cell_type": "markdown",
   "metadata": {},
   "source": [
    "__3.__ Из закономерностей сложения и умножения матриц на число можно сделать вывод, что матрицы одного размера образуют линейное пространство. Вычислить линейную комбинацию $3A-2B+4C$ для матриц $A=\\begin{pmatrix}\n",
    "1 & 7\\\\ \n",
    "3 & -6\n",
    "\\end{pmatrix}$, $B=\\begin{pmatrix}\n",
    "0 & 5\\\\ \n",
    "2 & -1\n",
    "\\end{pmatrix}$, $C=\\begin{pmatrix}\n",
    "2 & -4\\\\ \n",
    "1 & 1\n",
    "\\end{pmatrix}.$\n",
    "    \n"
   ]
  },
  {
   "cell_type": "markdown",
   "metadata": {},
   "source": [
    "$$3A-2B+4C=3\\cdot\\begin{pmatrix}\n",
    "1 & 7\\\\ \n",
    "3 & -6\n",
    "\\end{pmatrix}-2\\cdot\\begin{pmatrix}\n",
    "0 & 5\\\\ \n",
    "2 & -1\n",
    "\\end{pmatrix}+4\\cdot\\begin{pmatrix}\n",
    "2 & -4\\\\ \n",
    "1 & 1\n",
    "\\end{pmatrix} = \n",
    "\\begin{pmatrix}\n",
    "3\\cdot1-2\\cdot0+4\\cdot2 & 3\\cdot7-2\\cdot5+4\\cdot(-4)\\\\\n",
    "3\\cdot3-2\\cdot2+4\\cdot1 & 3\\cdot(-6)-2\\cdot(-1)+4\\cdot1\n",
    "\\end{pmatrix} = \n",
    "\\begin{pmatrix}\n",
    "11&-5\\\\\n",
    "9&-12\n",
    "\\end{pmatrix}\n",
    "$$"
   ]
  },
  {
   "cell_type": "code",
   "execution_count": 20,
   "metadata": {},
   "outputs": [
    {
     "name": "stdout",
     "output_type": "stream",
     "text": [
      "[[ 11  -5]\n",
      " [  9 -12]]\n"
     ]
    }
   ],
   "source": [
    "A = np.array([[1,7],[3,-6]])\n",
    "B =np.array([[0,5],[2,-1]])\n",
    "C=np.array([[2,-4],[1,1]])\n",
    "print(3*A-2*B+4*C)"
   ]
  },
  {
   "cell_type": "markdown",
   "metadata": {},
   "source": [
    "__4.__ Дана матрица $A=\\begin{pmatrix}\n",
    "4 & 1\\\\ \n",
    "5 & -2\\\\ \n",
    "2 & 3\n",
    "\\end{pmatrix}$.\n",
    "Вычислить $AA^{T}$ и $A^{T}A$.\n",
    "\n"
   ]
  },
  {
   "cell_type": "markdown",
   "metadata": {},
   "source": [
    "$$A^{T}=\\begin{pmatrix}\n",
    "4 & 5 & 2\\\\\n",
    "1 & -2 & 3\n",
    "\\end{pmatrix}$$\n",
    "\n",
    "$$A\\cdot A^{T} =\n",
    "\\begin{pmatrix}\n",
    "4 & 1\\\\ \n",
    "5 & -2\\\\ \n",
    "2 & 3\n",
    "\\end{pmatrix} \\cdot\n",
    "\\begin{pmatrix}\n",
    "4 & 5 & 2\\\\\n",
    "1 & -2 & 3\n",
    "\\end{pmatrix} = \n",
    "\\begin{pmatrix}\n",
    "4\\cdot4+1\\cdot1 & 4\\cdot5+1\\cdot(-2) & 4\\cdot2+1\\cdot3\\\\\n",
    "5\\cdot4-2\\cdot1 & 5\\cdot5-2\\cdot(-2) & 5\\cdot2-2\\cdot3\\\\\n",
    "2\\cdot4+3\\cdot1 & 2\\cdot5+3\\cdot(-2) & 2\\cdot2+3\\cdot3\n",
    "\\end{pmatrix} = \n",
    "\\begin{pmatrix}\n",
    "17 & 18 & 11\\\\\n",
    "18 & 29 & 4\\\\\n",
    "11 & 4 & 13\n",
    "\\end{pmatrix}\n",
    "$$\n",
    "\n",
    "$$A^{T}\\cdot A =\n",
    "\\begin{pmatrix}\n",
    "4 & 5 & 2\\\\\n",
    "1 & -2 & 3\n",
    "\\end{pmatrix} \\cdot\n",
    "\\begin{pmatrix}\n",
    "4 & 1\\\\ \n",
    "5 & -2\\\\ \n",
    "2 & 3\n",
    "\\end{pmatrix} = \n",
    "\\begin{pmatrix}\n",
    "4\\cdot4+5\\cdot5+2\\cdot2 & 4\\cdot1+5\\cdot(-2)+2\\cdot3\\\\\n",
    "1\\cdot4-2\\cdot5+3\\cdot2 & 1\\cdot1-2\\cdot(-2)+3\\cdot3\\\\\n",
    "\\end{pmatrix} = \n",
    "\\begin{pmatrix}\n",
    "45 & 0\\\\\n",
    "0 & 14\n",
    "\\end{pmatrix}\n",
    "$$"
   ]
  },
  {
   "cell_type": "code",
   "execution_count": 23,
   "metadata": {},
   "outputs": [
    {
     "name": "stdout",
     "output_type": "stream",
     "text": [
      "[[17 18 11]\n",
      " [18 29  4]\n",
      " [11  4 13]]\n",
      "[[45  0]\n",
      " [ 0 14]]\n"
     ]
    }
   ],
   "source": [
    "A = np.array([[4,1],[5,-2],[2,3]])\n",
    "print(A.dot(A.T))\n",
    "print((A.T).dot(A))"
   ]
  },
  {
   "cell_type": "markdown",
   "metadata": {},
   "source": [
    "__5*.__ Написать на Python функцию для перемножения двух произвольных матриц, не используя NumPy."
   ]
  },
  {
   "cell_type": "markdown",
   "metadata": {},
   "source": [
    "Правило перемножения матриц можно сформулировать словесно следующим образом: _элемент $c_{ij}$, стоящий на пересечении $i$-й строки и $j$-го столбца матрицы $C=A\\cdot B$, равен сумме попарных произведений соответствующих элементов $i$-й строки матрицы $A$ и $j$-го столбца матрицы $B$._\n",
    "Следует заметить, что матрицу $A$ можно умножить не на всякую матрицу $B$: __необходимо, чтобы число столбцов матрицы $A$ было равно числу строк матрицы $B$.__"
   ]
  },
  {
   "cell_type": "code",
   "execution_count": 214,
   "metadata": {},
   "outputs": [
    {
     "name": "stdout",
     "output_type": "stream",
     "text": [
      "A\n",
      "[1, 1, 1]\n",
      "[2, 2, 2]\n",
      "[3, 3, 3]\n",
      "[4, 4, 4]\n",
      "[5, 5, 5]\n",
      "*\n",
      "B\n",
      "[4, 5, 6]\n",
      "[4, 5, 6]\n",
      "[4, 5, 6]\n",
      "=\n",
      "C\n",
      "[12, 15, 18]\n",
      "[24, 30, 36]\n",
      "[36, 45, 54]\n",
      "[48, 60, 72]\n",
      "[60, 75, 90]\n"
     ]
    }
   ],
   "source": [
    "A = [[1,1,1],[2,2,2],[3,3,3],[4,4,4],[5,5,5]]\n",
    "B = [[4,5,6],[4,5,6],[4,5,6]]\n",
    "# определяем размерность матриц\n",
    "m,n = len(A),len(A[0])\n",
    "k,s = len(B),len(B[0])\n",
    "# print(m,n,k,s)\n",
    "\n",
    "# проверка возможности умножения\n",
    "if n==k:\n",
    "    product_AB(A,B,m,n,k,s)\n",
    "else:\n",
    "    print(\"произведение не определено\")\n",
    "    \n",
    "\n",
    "\n",
    "def product_AB(A,B,m,n,k,s):\n",
    "    # создаем столбцы по второй матрице\n",
    "    B_columns = []\n",
    "    for i in range(s):\n",
    "        column =[]\n",
    "        for j in range(k):\n",
    "            column.append(B[j][i])\n",
    "        B_columns.append(column)\n",
    "    # print(B_columns)\n",
    "\n",
    "    # создаем матрицу произведения\n",
    "    C=[[0]*s for i in range(m)]\n",
    "    # for row in C: \n",
    "    #     print(row)\n",
    "    # цикл умножения\n",
    "    # цикл по количеству столбцов \n",
    "    for i in range(s):\n",
    "        # цикл по количеству строк \n",
    "        for j in range(m):\n",
    "            C_ij=0\n",
    "            # цикл по количеству значений в строке/столбце\n",
    "            for h in range(k):\n",
    "                #print(B_columns[i][h], A[j][h])\n",
    "                C_ij=C_ij+B_columns[i][h]* A[j][h]\n",
    "            #print(f'C_ij={B_columns[i][h]}*{A[j][h]}={C_ij}, i={j} j={i}')\n",
    "            C[j][i] = C_ij\n",
    "\n",
    "    print('A')\n",
    "    for row in A: \n",
    "        print(row)\n",
    "    print('*\\nB')\n",
    "    for row in B: \n",
    "        print(row)\n",
    "    print('=\\nC')\n",
    "    for row in C: \n",
    "        print(row)"
   ]
  },
  {
   "cell_type": "code",
   "execution_count": 215,
   "metadata": {},
   "outputs": [
    {
     "data": {
      "text/plain": [
       "array([[12, 15, 18],\n",
       "       [24, 30, 36],\n",
       "       [36, 45, 54],\n",
       "       [48, 60, 72],\n",
       "       [60, 75, 90]])"
      ]
     },
     "execution_count": 215,
     "metadata": {},
     "output_type": "execute_result"
    }
   ],
   "source": [
    "A = np.array([[1,1,1],[2,2,2],[3,3,3],[4,4,4],[5,5,5]])\n",
    "B = np.array([[4,5,6],[4,5,6],[4,5,6]])\n",
    "A.dot(B)"
   ]
  }
 ],
 "metadata": {
  "colab": {
   "collapsed_sections": [],
   "name": "Lesson_3-REVISED.ipynb",
   "provenance": []
  },
  "kernelspec": {
   "display_name": "Python 3",
   "language": "python",
   "name": "python3"
  },
  "language_info": {
   "codemirror_mode": {
    "name": "ipython",
    "version": 3
   },
   "file_extension": ".py",
   "mimetype": "text/x-python",
   "name": "python",
   "nbconvert_exporter": "python",
   "pygments_lexer": "ipython3",
   "version": "3.7.4"
  }
 },
 "nbformat": 4,
 "nbformat_minor": 1
}
