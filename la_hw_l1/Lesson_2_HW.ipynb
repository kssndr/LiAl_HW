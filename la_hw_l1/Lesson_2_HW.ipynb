{
 "cells": [
  {
   "cell_type": "markdown",
   "metadata": {
    "colab_type": "text",
    "id": "X2Z2Z_K5c7Zv"
   },
   "source": [
    "# Урок 2"
   ]
  },
  {
   "cell_type": "markdown",
   "metadata": {
    "colab_type": "text",
    "id": "c9EHjpDAc7Zy"
   },
   "source": [
    "# Линейное пространство. Основные понятия. Часть 2"
   ]
  },
  {
   "cell_type": "markdown",
   "metadata": {
    "colab_type": "text",
    "id": "rnPVQP84c7cu"
   },
   "source": [
    "## Практическое задание"
   ]
  },
  {
   "cell_type": "markdown",
   "metadata": {
    "colab_type": "text",
    "id": "81d4BnNXc7cy"
   },
   "source": [
    "__1.__ Найти скалярное произведение векторов $x, y \\in \\mathbb{R}$:<br>\n",
    "а) $x=(0,-3, 6),~y=(-4, 7, 9);$<br>\n",
    "б) $x=(7, -4, 0, 1),~y=(-3, 1, 11, 2).$\n",
    "\n"
   ]
  },
  {
   "cell_type": "markdown",
   "metadata": {},
   "source": [
    "Скалярное произведение опреределено как $$(x,y)=a_{1}b_{1}+a_{2}b_{2}+...+a_{n}b_{n}.$$"
   ]
  },
  {
   "cell_type": "markdown",
   "metadata": {},
   "source": [
    "соответственно для \n",
    "\n",
    "__а)__ \n",
    "$(x,y) = 0 \\cdot (-4) + (-3) \\cdot 7 + 6 \\cdot 9 = -21+54 = 33$"
   ]
  },
  {
   "cell_type": "code",
   "execution_count": 5,
   "metadata": {},
   "outputs": [],
   "source": [
    "import numpy as np\n",
    "from numpy.linalg import norm"
   ]
  },
  {
   "cell_type": "code",
   "execution_count": 6,
   "metadata": {},
   "outputs": [
    {
     "name": "stdout",
     "output_type": "stream",
     "text": [
      "Скалярное произведение a и b:\n",
      "33\n"
     ]
    }
   ],
   "source": [
    "a = np.array([0, -3, 6])\n",
    "b = np.array([-4, 7, 9])\n",
    "print(f'Скалярное произведение a и b:\\n{np.dot(a, b)}')"
   ]
  },
  {
   "cell_type": "markdown",
   "metadata": {},
   "source": [
    "__б)__ \n",
    "$(x,y) = 7 \\cdot (-3) + (-4) \\cdot 1 + 0 \\cdot 11 + 1 \\cdot 2 = -21-4+0+2 =-23$"
   ]
  },
  {
   "cell_type": "code",
   "execution_count": 7,
   "metadata": {},
   "outputs": [
    {
     "name": "stdout",
     "output_type": "stream",
     "text": [
      "Скалярное произведение a и b:\n",
      "-23\n"
     ]
    }
   ],
   "source": [
    "a = np.array([7, -4, 0,1])\n",
    "b = np.array([-3, 1, 11,2])\n",
    "print(f'Скалярное произведение a и b:\\n{np.dot(a, b)}')"
   ]
  },
  {
   "cell_type": "markdown",
   "metadata": {},
   "source": [
    "__2.__ Найти нормы векторов $(4, 2, 4)$ и $(12, 3, 4)$ и угол между ними."
   ]
  },
  {
   "cell_type": "markdown",
   "metadata": {},
   "source": [
    "Определим манхэттенскую норму вектора $x(4,2,4)$ и вектора $y(12,3,4)$:\n",
    "\n",
    "$$\\left\\|x\\right\\|_{1} = |4|+|2|+|4|=10$$\n",
    "$$\\left\\|y\\right\\|_{1} = |12|+|3|+|4|=19$$"
   ]
  },
  {
   "cell_type": "code",
   "execution_count": 9,
   "metadata": {},
   "outputs": [
    {
     "name": "stdout",
     "output_type": "stream",
     "text": [
      "l1 норма вектора x:\n",
      "10.0\n",
      "l1 норма вектора y:\n",
      "19.0\n"
     ]
    }
   ],
   "source": [
    "x = np.array([4, 2, 4])\n",
    "y = np.array([12, 3, 4])\n",
    "print(f'l1 норма вектора x:\\n{norm(x, ord=1)}')\n",
    "print(f'l1 норма вектора y:\\n{norm(y, ord=1)}')"
   ]
  },
  {
   "cell_type": "markdown",
   "metadata": {},
   "source": [
    "Определим евклидову норму вектора $x(4,2,4)$ и вектора $y(12,3,4)$:\n",
    "\n",
    "$$\\left\\|x\\right\\|_{2} = \\sqrt{4^2+2^2+4^2}=\\sqrt{16+4+16}=\\sqrt{36}=6$$\n",
    "$$\\left\\|y\\right\\|_{2} = \\sqrt{12^2+3^2+4^2}=\\sqrt{144+9+16}=\\sqrt{169}=13$$"
   ]
  },
  {
   "cell_type": "code",
   "execution_count": 10,
   "metadata": {},
   "outputs": [
    {
     "name": "stdout",
     "output_type": "stream",
     "text": [
      "l2 норма вектора x:\n",
      "6.0\n",
      "l2 норма вектора y:\n",
      "13.0\n"
     ]
    }
   ],
   "source": [
    "print(f'l2 норма вектора x:\\n{norm(x, ord=2)}')\n",
    "print(f'l2 норма вектора y:\\n{norm(y, ord=2)}')"
   ]
  },
  {
   "cell_type": "code",
   "execution_count": 37,
   "metadata": {
    "scrolled": false
   },
   "outputs": [
    {
     "name": "stdout",
     "output_type": "stream",
     "text": [
      "l-1 норма вектора x: 1.0\n",
      "l0 норма вектора x: 3.0\n",
      "l0.01 норма вектора x: 1.637094671218088e+48\n",
      "l0.05 норма вектора x: 11099322319.928045\n",
      "l0.1 норма вектора x: 188464.46327755542\n",
      "l0.2 норма вектора x: 779.6254308581954\n",
      "l0.5 норма вектора x: 29.31370849898476\n",
      "l0.75 норма вектора x: 14.261154020491936\n",
      "l1 норма вектора x: 10.0\n",
      "l2 норма вектора x: 6.0\n",
      "l3 норма вектора x: 5.14256318131647\n",
      "l4 норма вектора x: 4.79356345385686\n",
      "l5 норма вектора x: 4.609063239604281\n",
      "l10 норма вектора x: 4.287303134918266\n",
      "l15 норма вектора x: 4.189180752702858\n",
      "l50 норма вектора x: 4.055837919160116\n",
      "l100 норма вектора x: 4.0278222002268755\n",
      "l500 норма вектора x: 4.005549022845338\n"
     ]
    }
   ],
   "source": [
    "o=np.array([1, 1, 1])\n",
    "r=[-1,0,0.01,0.05, 0.1,0.2,0.5,0.75,1,2,3,4,5,10,15,50,100,500]\n",
    "for i in r:\n",
    "    print(f'l{i} норма вектора x: {norm(x, ord=i)}')"
   ]
  },
  {
   "cell_type": "markdown",
   "metadata": {},
   "source": [
    "$$cos\\varphi = \\frac{(x,y)}{\\left \\|x\\right \\|\\cdot\\left \\|y\\right \\|}$$ \n",
    "\n",
    "\n",
    "$$cos\\varphi = \\frac{4\\cdot12+2\\cdot3+4\\cdot4}{\\sqrt{4^{2}+2^{2}+4^{2}}\\sqrt{12^{2}+2^{2}+4^{2}}}=\\frac{70}{78}\\approx 0.8974$$ \n",
    "\n",
    "$$\\arccos(0.8974)\\approx 26.18^0$$"
   ]
  },
  {
   "cell_type": "code",
   "execution_count": 54,
   "metadata": {},
   "outputs": [
    {
     "name": "stdout",
     "output_type": "stream",
     "text": [
      "Косинус угла между x и y: 0.8974\n",
      "Угол между x и y: 26.18\n"
     ]
    }
   ],
   "source": [
    "cos_phi = np.dot(x, y) / norm(x) / norm(y)\n",
    "print(f'Косинус угла между x и y: {cos_phi:.4f}')\n",
    "print(f'Угол между x и y: {(np.arccos(cos_phi)*180/np.pi):.2f}')"
   ]
  },
  {
   "cell_type": "markdown",
   "metadata": {},
   "source": [
    "\n",
    "__3.__ Будет ли линейное пространство евклидовым, если за скалярное произведение принять:<br>\n",
    "а) произведение длин векторов;<br>\n",
    "б) утроенное обычное скалярное произведение векторов?\n",
    "   \n",
    "   \n"
   ]
  },
  {
   "cell_type": "markdown",
   "metadata": {},
   "source": [
    "пространство будет евклидовым если будут соблюдаться четыре аксиомы:<br>\n",
    "1) $(x,y)=(y,x);$<br>\n",
    "2) $(\\lambda x, y)=\\lambda(x, y);$<br>\n",
    "3) $(x_{1}+x_{2},y)=(x_{1},y)+(x_{2},y);$<br>\n",
    "4) $(x, x)\\geq0$, причем $(x,x)=0\\Leftrightarrow x=0.$\n",
    "\n",
    "__а)__ если взять за скалярное произведение произведение длин векторов, то это значит что угол между всеми возможными векторами равен нулю (или 180) получается что все пространство это прямая - может ли прямая быть евклидовым пространством - может, так как при этом соблюдается 4 аксиомы\n",
    "\n",
    "__б)__ утроеное обычное скалярное произведение взятое за сколярное произведение в пространстве, так же не противоречит 4 аксиомам (просто постоянный доп коэф как во второй аксиоме)\n"
   ]
  },
  {
   "cell_type": "markdown",
   "metadata": {},
   "source": [
    "__4.__ Какие из нижеперечисленных векторов образуют ортонормированный базис в линейном пространстве $\\mathbb{R}^{3}$:<br>\n",
    "а) $(1,0,0),(0,0,1);$ <br>\n",
    "б) $(1/\\sqrt{2},-1/\\sqrt{2},0),(1/\\sqrt{2},1/\\sqrt{2},0), (0,0,1);$<br>\n",
    "в) $(1/2, -1/2, 0), (0, 1/2, 1/2), (0,0,1);$<br>\n",
    "г) $(1,0,0),(0,1,0),(0,0,1)?$ "
   ]
  },
  {
   "cell_type": "markdown",
   "metadata": {},
   "source": [
    "В конечномерном евклидовом пространстве базис $\\{e_{1},e_{2},...,e_{n}\\}$ называется ортонормированным, если \n",
    "\n",
    "$(e_{i}, e_{j})=0$ $\\forall$ $i\\neq j$ и $(e_{i},e_{i})=1$ $\\forall$ $i\\in[1, n].$\n",
    "другими словами они должны быть перпендикулярны друг другу и единичными по длине\n",
    "\n",
    "только три вектора варианта __г__ соответствуют этому определению"
   ]
  },
  {
   "cell_type": "code",
   "execution_count": null,
   "metadata": {},
   "outputs": [],
   "source": []
  }
 ],
 "metadata": {
  "colab": {
   "collapsed_sections": [],
   "name": "Lesson_2-REVISED.ipynb",
   "provenance": []
  },
  "kernelspec": {
   "display_name": "Python 3",
   "language": "python",
   "name": "python3"
  },
  "language_info": {
   "codemirror_mode": {
    "name": "ipython",
    "version": 3
   },
   "file_extension": ".py",
   "mimetype": "text/x-python",
   "name": "python",
   "nbconvert_exporter": "python",
   "pygments_lexer": "ipython3",
   "version": "3.7.4"
  }
 },
 "nbformat": 4,
 "nbformat_minor": 1
}
