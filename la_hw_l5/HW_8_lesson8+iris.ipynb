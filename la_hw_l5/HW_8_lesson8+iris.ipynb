{
 "cells": [
  {
   "cell_type": "markdown",
   "metadata": {
    "colab_type": "text",
    "id": "XQgRG9KlCzoP"
   },
   "source": [
    "# Урок 8"
   ]
  },
  {
   "cell_type": "markdown",
   "metadata": {
    "colab_type": "text",
    "id": "5bpC3w-ECzoS"
   },
   "source": [
    "# Сингулярное разложение матриц"
   ]
  },
  {
   "cell_type": "markdown",
   "metadata": {
    "colab_type": "text",
    "id": "88Mbd_tGCzso"
   },
   "source": [
    "## Практическое задание"
   ]
  },
  {
   "cell_type": "markdown",
   "metadata": {
    "colab_type": "text",
    "id": "aoo5c_Q0Czsp"
   },
   "source": [
    "1. Найти с помощью NumPy SVD для матрицы\n",
    "\n",
    "$$\\begin{pmatrix}\n",
    "1 & 2 & 0\\\\ \n",
    "0 & 0 & 5\\\\ \n",
    "3 & -4 & 2\\\\ \n",
    "1 & 6 & 5\\\\ \n",
    "0 & 1 & 0\n",
    "\\end{pmatrix}.$$\n",
    "\n",
    "\n",
    "2. Для матрицы из предыдущего задания найти с помощью NumPy и вручную:\n",
    "\n",
    "    а) евклидову норму;\n",
    "    \n",
    "    б) норму Фробениуса.\n",
    "    \n",
    "3. Разобраться с ирисами - алгоритмом использования SVD для нахождения явных признаков (понизить количество признаков с 4 до 1 для каждого сорта и тестовой выборке проверить это)"
   ]
  },
  {
   "cell_type": "markdown",
   "metadata": {},
   "source": [
    "__Решение__\n",
    "__1.__"
   ]
  },
  {
   "cell_type": "markdown",
   "metadata": {},
   "source": []
  },
  {
   "cell_type": "code",
   "execution_count": 826,
   "metadata": {},
   "outputs": [],
   "source": [
    "import numpy as np\n",
    "np.set_printoptions(precision=2, suppress=True)"
   ]
  },
  {
   "cell_type": "code",
   "execution_count": 827,
   "metadata": {},
   "outputs": [
    {
     "name": "stdout",
     "output_type": "stream",
     "text": [
      "Матрица A:\n",
      "[[ 1  2  0]\n",
      " [ 0  0  5]\n",
      " [ 3 -4  2]\n",
      " [ 1  6  5]\n",
      " [ 0  1  0]]\n"
     ]
    }
   ],
   "source": [
    "A = np.array([[1,2,0],\n",
    "              [0,0, 5],\n",
    "              [3,-4,2],\n",
    "              [1,6,5],\n",
    "             [0,1,0]])\n",
    "print(f'Матрица A:\\n{A}')"
   ]
  },
  {
   "cell_type": "code",
   "execution_count": 828,
   "metadata": {},
   "outputs": [],
   "source": [
    "U, s, W = np.linalg.svd(A)\n",
    "\n",
    "# Транспонируем матрицу W\n",
    "V = W.T\n",
    "\n",
    "# s - список диагональных элементов, его нужно привести к виду диагональной матрицы для наглядности\n",
    "Sigma = np.zeros_like(A, dtype=float)\n",
    "Sigma[np.diag_indices(min(A.shape))] = s"
   ]
  },
  {
   "cell_type": "code",
   "execution_count": 829,
   "metadata": {},
   "outputs": [
    {
     "name": "stdout",
     "output_type": "stream",
     "text": [
      "Матрица U:\n",
      "[[ 0.17  0.16 -0.53 -0.8  -0.16]\n",
      " [ 0.39 -0.53  0.61 -0.43  0.03]\n",
      " [-0.14 -0.82 -0.52  0.14  0.07]\n",
      " [ 0.89  0.06 -0.25  0.38 -0.06]\n",
      " [ 0.08  0.11 -0.08 -0.11  0.98]]\n",
      "Матрица Sigma:\n",
      "[[8.82 0.   0.  ]\n",
      " [0.   6.14 0.  ]\n",
      " [0.   0.   2.53]\n",
      " [0.   0.   0.  ]\n",
      " [0.   0.   0.  ]]\n",
      "Матрица V:\n",
      "[[ 0.07 -0.37 -0.93]\n",
      " [ 0.72  0.67 -0.21]\n",
      " [ 0.69 -0.65  0.31]]\n"
     ]
    }
   ],
   "source": [
    "print(f'Матрица U:\\n{U}')\n",
    "print(f'Матрица Sigma:\\n{Sigma}')\n",
    "print(f'Матрица V:\\n{V}')"
   ]
  },
  {
   "cell_type": "markdown",
   "metadata": {},
   "source": [
    "__Решение__ \n",
    "\n",
    "__2.а)__"
   ]
  },
  {
   "cell_type": "markdown",
   "metadata": {},
   "source": [
    "Евклидова норма матрицы характеризует ее значимость при умножении матрицы на вектор. Так как в задании нет вектора, то видимо подразумевается нахождение евклидовом нормы исходной для матрицы А, а нормы Фробениуса когда уже известна/с использованием диагональной матрицы, потому что вроде как формулы для нормы Фробениуса и Евклидовой одинаковы: \n",
    "\n",
    "\n",
    "$$\\left \\| A \\right \\|=\\sqrt{\\sum_{i=1}^{m}\\sum_{j=1}^{n}a_{ij}^{2}}.$$\n",
    "\n",
    "$\\left \\| A \\right \\|_E = \\sqrt{1+4+25+9+16+4+1+36+25+1}= \\sqrt{122}=11.045$\n",
    "\n",
    "http://mathworld.wolfram.com/FrobeniusNorm.html  \n",
    "\n",
    "\n",
    "https://ru.wikipedia.org/wiki/Норма_матрицы"
   ]
  },
  {
   "cell_type": "code",
   "execution_count": 830,
   "metadata": {},
   "outputs": [
    {
     "data": {
      "text/plain": [
       "11.045361017187261"
      ]
     },
     "execution_count": 830,
     "metadata": {},
     "output_type": "execute_result"
    }
   ],
   "source": [
    "(122)**(1/2)"
   ]
  },
  {
   "cell_type": "code",
   "execution_count": 831,
   "metadata": {},
   "outputs": [
    {
     "data": {
      "text/plain": [
       "11.045361017187261"
      ]
     },
     "execution_count": 831,
     "metadata": {},
     "output_type": "execute_result"
    }
   ],
   "source": [
    "np.linalg.norm(A,ord=None)"
   ]
  },
  {
   "cell_type": "markdown",
   "metadata": {},
   "source": [
    "нормирование матрицы Sigma для определения влияния ранга на апроксимацию к матрице А в случае уменьшения размерности(ранга)\n",
    "\n",
    "\n",
    "$r_1=\\frac{8.82}{11.045}=0.7985$  \n",
    "\n",
    "$r_2=\\frac{6.14}{11.045}=0.5559$  \n",
    "\n",
    "$r_3=\\frac{2.53}{11.045}=0.2290$ "
   ]
  },
  {
   "cell_type": "markdown",
   "metadata": {},
   "source": [
    "__2.б)__"
   ]
  },
  {
   "cell_type": "markdown",
   "metadata": {},
   "source": [
    "В случае, когда известно сингулярное разложение матрицы, ее норма Фробениуса вычисляется как\n",
    "\n",
    "$$\\left \\| A \\right \\|_{F}=\\sqrt{\\sum_{k=1}^{r}\\mu_{k}^{2}}.$$\n",
    "\n",
    "$\\left \\| A \\right \\|_{F}=\\sqrt{8.82^2+6.14^2+2.53^2}=\\sqrt{121.8929}=11.0405$"
   ]
  },
  {
   "cell_type": "code",
   "execution_count": 763,
   "metadata": {},
   "outputs": [
    {
     "data": {
      "text/plain": [
       "11.04051176350082"
      ]
     },
     "execution_count": 763,
     "metadata": {},
     "output_type": "execute_result"
    }
   ],
   "source": [
    "(8.82**2+6.14**2+2.53**2)**(1/2)"
   ]
  },
  {
   "cell_type": "code",
   "execution_count": 764,
   "metadata": {},
   "outputs": [
    {
     "data": {
      "text/plain": [
       "11.045361017187261"
      ]
     },
     "execution_count": 764,
     "metadata": {},
     "output_type": "execute_result"
    }
   ],
   "source": [
    "np.linalg.norm(A,ord='fro')"
   ]
  },
  {
   "cell_type": "markdown",
   "metadata": {},
   "source": [
    "формально в numpy вычисляется по умолчанию и с указанием только норма Фробениуса: np.linalg.norm(A,ord=None) = np.linalg.norm(A,ord='fro')\n",
    "\n",
    "похоже я не понял задание ?\n",
    "\n",
    "на всякий случай расчет нормы \"вручную\":"
   ]
  },
  {
   "cell_type": "code",
   "execution_count": 832,
   "metadata": {},
   "outputs": [
    {
     "name": "stdout",
     "output_type": "stream",
     "text": [
      "норма матрицы А: 11.045\n"
     ]
    }
   ],
   "source": [
    "A = np.array([[1,2,0],\n",
    "              [0,0, 5],\n",
    "              [3,-4,2],\n",
    "              [1,6,5],\n",
    "             [0,1,0]])\n",
    "A_f=0\n",
    "for i in range(len(A)):\n",
    "    for j in range(len(A[0])):\n",
    "        A_f += A[i][j]**2\n",
    "        \n",
    "A_norma=A_f**0.5\n",
    "print(f'норма матрицы А: {A_norma:0.3f}')"
   ]
  },
  {
   "cell_type": "markdown",
   "metadata": {},
   "source": [
    "нормирование матрицы"
   ]
  },
  {
   "cell_type": "code",
   "execution_count": 833,
   "metadata": {},
   "outputs": [
    {
     "name": "stdout",
     "output_type": "stream",
     "text": [
      "норма матрицы А: 11.045\n",
      "[[ 0.09  0.18  0.  ]\n",
      " [ 0.    0.    0.45]\n",
      " [ 0.27 -0.36  0.18]\n",
      " [ 0.09  0.54  0.45]\n",
      " [ 0.    0.09  0.  ]]\n"
     ]
    }
   ],
   "source": [
    "A = np.array([[1,2,0],\n",
    "              [0,0, 5],\n",
    "              [3,-4,2],\n",
    "              [1,6,5],\n",
    "             [0,1,0]])\n",
    "print(f'норма матрицы А: {A_norma:0.3f}')\n",
    "r= np.zeros_like(A, dtype=float)\n",
    "for i in range(len(A)):\n",
    "    for j in range(len(A[0])):\n",
    "        r[i][j] = A[i][j]/A_norma\n",
    "print(r)"
   ]
  },
  {
   "cell_type": "markdown",
   "metadata": {},
   "source": [
    "__3.Разобраться с ирисами__"
   ]
  },
  {
   "cell_type": "markdown",
   "metadata": {},
   "source": [
    "задача - уменьшить количество признаков используя SVD"
   ]
  },
  {
   "cell_type": "code",
   "execution_count": 835,
   "metadata": {},
   "outputs": [
    {
     "name": "stdout",
     "output_type": "stream",
     "text": [
      "Populating the interactive namespace from numpy and matplotlib\n"
     ]
    }
   ],
   "source": [
    "import numpy as np\n",
    "import pandas as pd\n",
    "from sklearn import datasets\n",
    "from sklearn.cluster import KMeans\n",
    "from sklearn.model_selection import train_test_split\n",
    "from sklearn import metrics \n",
    "from pandas import DataFrame\n",
    "from sklearn import linear_model\n",
    "%pylab inline"
   ]
  },
  {
   "cell_type": "code",
   "execution_count": 836,
   "metadata": {},
   "outputs": [
    {
     "name": "stdout",
     "output_type": "stream",
     "text": [
      "['sepal length (cm)', 'sepal width (cm)', 'petal length (cm)', 'petal width (cm)']\n",
      "[[5.1 3.5 1.4 0.2]\n",
      " [4.9 3.  1.4 0.2]\n",
      " [4.7 3.2 1.3 0.2]\n",
      " [4.6 3.1 1.5 0.2]\n",
      " [5.  3.6 1.4 0.2]]\n",
      "['setosa' 'versicolor' 'virginica']\n",
      "[0 0 0 0 0 0 0 0 0 0 0 0 0 0 0 0 0 0 0 0 0 0 0 0 0 0 0 0 0 0 0 0 0 0 0 0 0\n",
      " 0 0 0 0 0 0 0 0 0 0 0 0 0 1 1 1 1 1 1 1 1 1 1 1 1 1 1 1 1 1 1 1 1 1 1 1 1\n",
      " 1 1 1 1 1 1 1 1 1 1 1 1 1 1 1 1 1 1 1 1 1 1 1 1 1 1 2 2 2 2 2 2 2 2 2 2 2\n",
      " 2 2 2 2 2 2 2 2 2 2 2 2 2 2 2 2 2 2 2 2 2 2 2 2 2 2 2 2 2 2 2 2 2 2 2 2 2\n",
      " 2 2]\n"
     ]
    }
   ],
   "source": [
    "# загрузка набор данных Ирисы:\n",
    "iris = datasets.load_iris()\n",
    "# названия переменных\n",
    "print(iris.feature_names)\n",
    "# данные\n",
    "print(iris.data[:5])\n",
    "# целевая переменная\n",
    "print(iris.target_names)\n",
    "print(iris.target)\n"
   ]
  },
  {
   "cell_type": "code",
   "execution_count": 837,
   "metadata": {},
   "outputs": [
    {
     "data": {
      "text/html": [
       "<div>\n",
       "<style scoped>\n",
       "    .dataframe tbody tr th:only-of-type {\n",
       "        vertical-align: middle;\n",
       "    }\n",
       "\n",
       "    .dataframe tbody tr th {\n",
       "        vertical-align: top;\n",
       "    }\n",
       "\n",
       "    .dataframe thead th {\n",
       "        text-align: right;\n",
       "    }\n",
       "</style>\n",
       "<table border=\"1\" class=\"dataframe\">\n",
       "  <thead>\n",
       "    <tr style=\"text-align: right;\">\n",
       "      <th></th>\n",
       "      <th>sepal length (cm)</th>\n",
       "      <th>sepal width (cm)</th>\n",
       "      <th>petal length (cm)</th>\n",
       "      <th>petal width (cm)</th>\n",
       "      <th>target</th>\n",
       "      <th>name</th>\n",
       "    </tr>\n",
       "  </thead>\n",
       "  <tbody>\n",
       "    <tr>\n",
       "      <td>0</td>\n",
       "      <td>5.1</td>\n",
       "      <td>3.5</td>\n",
       "      <td>1.4</td>\n",
       "      <td>0.2</td>\n",
       "      <td>0</td>\n",
       "      <td>setosa</td>\n",
       "    </tr>\n",
       "    <tr>\n",
       "      <td>1</td>\n",
       "      <td>4.9</td>\n",
       "      <td>3.0</td>\n",
       "      <td>1.4</td>\n",
       "      <td>0.2</td>\n",
       "      <td>0</td>\n",
       "      <td>setosa</td>\n",
       "    </tr>\n",
       "    <tr>\n",
       "      <td>2</td>\n",
       "      <td>4.7</td>\n",
       "      <td>3.2</td>\n",
       "      <td>1.3</td>\n",
       "      <td>0.2</td>\n",
       "      <td>0</td>\n",
       "      <td>setosa</td>\n",
       "    </tr>\n",
       "    <tr>\n",
       "      <td>3</td>\n",
       "      <td>4.6</td>\n",
       "      <td>3.1</td>\n",
       "      <td>1.5</td>\n",
       "      <td>0.2</td>\n",
       "      <td>0</td>\n",
       "      <td>setosa</td>\n",
       "    </tr>\n",
       "    <tr>\n",
       "      <td>4</td>\n",
       "      <td>5.0</td>\n",
       "      <td>3.6</td>\n",
       "      <td>1.4</td>\n",
       "      <td>0.2</td>\n",
       "      <td>0</td>\n",
       "      <td>setosa</td>\n",
       "    </tr>\n",
       "  </tbody>\n",
       "</table>\n",
       "</div>"
      ],
      "text/plain": [
       "   sepal length (cm)  sepal width (cm)  petal length (cm)  petal width (cm)  \\\n",
       "0                5.1               3.5                1.4               0.2   \n",
       "1                4.9               3.0                1.4               0.2   \n",
       "2                4.7               3.2                1.3               0.2   \n",
       "3                4.6               3.1                1.5               0.2   \n",
       "4                5.0               3.6                1.4               0.2   \n",
       "\n",
       "   target    name  \n",
       "0       0  setosa  \n",
       "1       0  setosa  \n",
       "2       0  setosa  \n",
       "3       0  setosa  \n",
       "4       0  setosa  "
      ]
     },
     "execution_count": 837,
     "metadata": {},
     "output_type": "execute_result"
    }
   ],
   "source": [
    "# Для удобства манипулирования данными делаем из них DataFrame:\n",
    "iris_frame = DataFrame(iris.data)\n",
    "# Делаем имена колонок такие же, как имена переменных:\n",
    "iris_frame.columns = iris.feature_names\n",
    "# Добавляем столбец с целевой переменной: \n",
    "iris_frame['target'] = iris.target\n",
    "# Для наглядности добавляем столбец с сортами: \n",
    "iris_frame['name'] = iris_frame.target.apply(lambda x : iris.target_names[x])\n",
    "# Смотрим, что получилось:\n",
    "\n",
    "samples,features = shape(iris_frame.iloc[:,:5])\n",
    "iris_frame[:5]"
   ]
  },
  {
   "cell_type": "code",
   "execution_count": 838,
   "metadata": {},
   "outputs": [
    {
     "data": {
      "text/plain": [
       "<seaborn.axisgrid.PairGrid at 0x1a312f8e90>"
      ]
     },
     "execution_count": 838,
     "metadata": {},
     "output_type": "execute_result"
    },
    {
     "data": {
      "image/png": "[encoded data removed]",
      "text/plain": [
       "<Figure size 804.75x720 with 20 Axes>"
      ]
     },
     "metadata": {
      "needs_background": "light"
     },
     "output_type": "display_data"
    }
   ],
   "source": [
    "import seaborn as sns\n",
    "\n",
    "sns.pairplot(iris_frame[['sepal length (cm)','sepal width (cm)','petal length (cm)','petal width (cm)','name']], hue = 'name')"
   ]
  },
  {
   "cell_type": "markdown",
   "metadata": {},
   "source": [
    "изобразим на графики группы ирисов по 2 более других признаков характеризующие отличия между 3 группами признаков"
   ]
  },
  {
   "cell_type": "code",
   "execution_count": 839,
   "metadata": {},
   "outputs": [
    {
     "data": {
      "text/plain": [
       "<matplotlib.legend.Legend at 0x1a31d065d0>"
      ]
     },
     "execution_count": 839,
     "metadata": {},
     "output_type": "execute_result"
    },
    {
     "data": {
      "image/png": "[encoded data removed]",
      "text/plain": [
       "<Figure size 432x288 with 1 Axes>"
      ]
     },
     "metadata": {
      "needs_background": "light"
     },
     "output_type": "display_data"
    }
   ],
   "source": [
    "fig, ax = plt.subplots()\n",
    "colors = ['blue','red','black']\n",
    "for i in range(len(colors)):\n",
    "    ax.scatter(iris_frame[iris_frame.target==i][\"petal length (cm)\"], iris_frame[iris_frame.target==i][\"petal width (cm)\"], color=colors[i], label=f'Class {i}')\n",
    "    \n",
    "plt.legend(loc='upper left')"
   ]
  },
  {
   "cell_type": "markdown",
   "metadata": {},
   "source": [
    "Создадим матрицу по 4 признакам для уменьшения их до 2 с помощью SVD\n",
    "\n",
    "но сперва нормализуем"
   ]
  },
  {
   "cell_type": "code",
   "execution_count": 887,
   "metadata": {},
   "outputs": [
    {
     "data": {
      "text/plain": [
       "array([[0.22, 0.62, 0.07, 0.04],\n",
       "       [0.17, 0.42, 0.07, 0.04],\n",
       "       [0.11, 0.5 , 0.05, 0.04],\n",
       "       [0.08, 0.46, 0.08, 0.04],\n",
       "       [0.19, 0.67, 0.07, 0.04]])"
      ]
     },
     "execution_count": 887,
     "metadata": {},
     "output_type": "execute_result"
    }
   ],
   "source": [
    "from sklearn.preprocessing import MinMaxScaler\n",
    "\n",
    "scaler = MinMaxScaler()\n",
    "scaled_values = scaler.fit_transform(iris_frame.iloc[:,:4]) \n",
    "scaled_values[0:5]"
   ]
  },
  {
   "cell_type": "code",
   "execution_count": 959,
   "metadata": {},
   "outputs": [
    {
     "data": {
      "text/plain": [
       "array([[0.22, 0.62, 0.07, 0.04],\n",
       "       [0.17, 0.42, 0.07, 0.04],\n",
       "       [0.11, 0.5 , 0.05, 0.04],\n",
       "       [0.08, 0.46, 0.08, 0.04],\n",
       "       [0.19, 0.67, 0.07, 0.04]])"
      ]
     },
     "execution_count": 959,
     "metadata": {},
     "output_type": "execute_result"
    }
   ],
   "source": [
    "A = scaled_values\n",
    "A[0:5]"
   ]
  },
  {
   "cell_type": "code",
   "execution_count": 960,
   "metadata": {},
   "outputs": [],
   "source": [
    "U, s, W = np.linalg.svd(A)"
   ]
  },
  {
   "cell_type": "code",
   "execution_count": 961,
   "metadata": {},
   "outputs": [],
   "source": [
    "# Транспонируем матрицу W\n",
    "VT = W.T\n",
    "\n",
    "# s - список диагональных элементов, его нужно привести к виду диагональной матрицы для наглядности\n",
    "Sigma = np.zeros_like(A, dtype=float)\n",
    "Sigma[np.diag_indices(min(A.shape))] = s"
   ]
  },
  {
   "cell_type": "code",
   "execution_count": 962,
   "metadata": {},
   "outputs": [
    {
     "name": "stdout",
     "output_type": "stream",
     "text": [
      "Матрица U размер:(150, 150) :\n",
      "[[-0.03  0.14 -0.01 ... -0.1  -0.08 -0.07]\n",
      " [-0.03  0.09 -0.02 ...  0.02 -0.03  0.01]\n",
      " [-0.02  0.11  0.04 ... -0.02 -0.14 -0.14]\n",
      " ...\n",
      " [-0.11 -0.03  0.03 ...  0.98 -0.02 -0.01]\n",
      " [-0.12 -0.    0.17 ... -0.02  0.95 -0.02]\n",
      " [-0.1  -0.02  0.1  ... -0.01 -0.02  0.98]]\n",
      "Матрица Sigma размер:(150, 4) :\n",
      "[[12.06  0.    0.    0.  ]\n",
      " [ 0.    3.85  0.    0.  ]\n",
      " [ 0.    0.    1.23  0.  ]\n",
      " [ 0.    0.    0.    0.6 ]\n",
      " [ 0.    0.    0.    0.  ]\n",
      " [ 0.    0.    0.    0.  ]\n",
      " [ 0.    0.    0.    0.  ]\n",
      " [ 0.    0.    0.    0.  ]\n",
      " [ 0.    0.    0.    0.  ]\n",
      " [ 0.    0.    0.    0.  ]\n",
      " [ 0.    0.    0.    0.  ]\n",
      " [ 0.    0.    0.    0.  ]\n",
      " [ 0.    0.    0.    0.  ]\n",
      " [ 0.    0.    0.    0.  ]\n",
      " [ 0.    0.    0.    0.  ]\n",
      " [ 0.    0.    0.    0.  ]\n",
      " [ 0.    0.    0.    0.  ]\n",
      " [ 0.    0.    0.    0.  ]\n",
      " [ 0.    0.    0.    0.  ]\n",
      " [ 0.    0.    0.    0.  ]\n",
      " [ 0.    0.    0.    0.  ]\n",
      " [ 0.    0.    0.    0.  ]\n",
      " [ 0.    0.    0.    0.  ]\n",
      " [ 0.    0.    0.    0.  ]\n",
      " [ 0.    0.    0.    0.  ]\n",
      " [ 0.    0.    0.    0.  ]\n",
      " [ 0.    0.    0.    0.  ]\n",
      " [ 0.    0.    0.    0.  ]\n",
      " [ 0.    0.    0.    0.  ]\n",
      " [ 0.    0.    0.    0.  ]\n",
      " [ 0.    0.    0.    0.  ]\n",
      " [ 0.    0.    0.    0.  ]\n",
      " [ 0.    0.    0.    0.  ]\n",
      " [ 0.    0.    0.    0.  ]\n",
      " [ 0.    0.    0.    0.  ]\n",
      " [ 0.    0.    0.    0.  ]\n",
      " [ 0.    0.    0.    0.  ]\n",
      " [ 0.    0.    0.    0.  ]\n",
      " [ 0.    0.    0.    0.  ]\n",
      " [ 0.    0.    0.    0.  ]\n",
      " [ 0.    0.    0.    0.  ]\n",
      " [ 0.    0.    0.    0.  ]\n",
      " [ 0.    0.    0.    0.  ]\n",
      " [ 0.    0.    0.    0.  ]\n",
      " [ 0.    0.    0.    0.  ]\n",
      " [ 0.    0.    0.    0.  ]\n",
      " [ 0.    0.    0.    0.  ]\n",
      " [ 0.    0.    0.    0.  ]\n",
      " [ 0.    0.    0.    0.  ]\n",
      " [ 0.    0.    0.    0.  ]\n",
      " [ 0.    0.    0.    0.  ]\n",
      " [ 0.    0.    0.    0.  ]\n",
      " [ 0.    0.    0.    0.  ]\n",
      " [ 0.    0.    0.    0.  ]\n",
      " [ 0.    0.    0.    0.  ]\n",
      " [ 0.    0.    0.    0.  ]\n",
      " [ 0.    0.    0.    0.  ]\n",
      " [ 0.    0.    0.    0.  ]\n",
      " [ 0.    0.    0.    0.  ]\n",
      " [ 0.    0.    0.    0.  ]\n",
      " [ 0.    0.    0.    0.  ]\n",
      " [ 0.    0.    0.    0.  ]\n",
      " [ 0.    0.    0.    0.  ]\n",
      " [ 0.    0.    0.    0.  ]\n",
      " [ 0.    0.    0.    0.  ]\n",
      " [ 0.    0.    0.    0.  ]\n",
      " [ 0.    0.    0.    0.  ]\n",
      " [ 0.    0.    0.    0.  ]\n",
      " [ 0.    0.    0.    0.  ]\n",
      " [ 0.    0.    0.    0.  ]\n",
      " [ 0.    0.    0.    0.  ]\n",
      " [ 0.    0.    0.    0.  ]\n",
      " [ 0.    0.    0.    0.  ]\n",
      " [ 0.    0.    0.    0.  ]\n",
      " [ 0.    0.    0.    0.  ]\n",
      " [ 0.    0.    0.    0.  ]\n",
      " [ 0.    0.    0.    0.  ]\n",
      " [ 0.    0.    0.    0.  ]\n",
      " [ 0.    0.    0.    0.  ]\n",
      " [ 0.    0.    0.    0.  ]\n",
      " [ 0.    0.    0.    0.  ]\n",
      " [ 0.    0.    0.    0.  ]\n",
      " [ 0.    0.    0.    0.  ]\n",
      " [ 0.    0.    0.    0.  ]\n",
      " [ 0.    0.    0.    0.  ]\n",
      " [ 0.    0.    0.    0.  ]\n",
      " [ 0.    0.    0.    0.  ]\n",
      " [ 0.    0.    0.    0.  ]\n",
      " [ 0.    0.    0.    0.  ]\n",
      " [ 0.    0.    0.    0.  ]\n",
      " [ 0.    0.    0.    0.  ]\n",
      " [ 0.    0.    0.    0.  ]\n",
      " [ 0.    0.    0.    0.  ]\n",
      " [ 0.    0.    0.    0.  ]\n",
      " [ 0.    0.    0.    0.  ]\n",
      " [ 0.    0.    0.    0.  ]\n",
      " [ 0.    0.    0.    0.  ]\n",
      " [ 0.    0.    0.    0.  ]\n",
      " [ 0.    0.    0.    0.  ]\n",
      " [ 0.    0.    0.    0.  ]\n",
      " [ 0.    0.    0.    0.  ]\n",
      " [ 0.    0.    0.    0.  ]\n",
      " [ 0.    0.    0.    0.  ]\n",
      " [ 0.    0.    0.    0.  ]\n",
      " [ 0.    0.    0.    0.  ]\n",
      " [ 0.    0.    0.    0.  ]\n",
      " [ 0.    0.    0.    0.  ]\n",
      " [ 0.    0.    0.    0.  ]\n",
      " [ 0.    0.    0.    0.  ]\n",
      " [ 0.    0.    0.    0.  ]\n",
      " [ 0.    0.    0.    0.  ]\n",
      " [ 0.    0.    0.    0.  ]\n",
      " [ 0.    0.    0.    0.  ]\n",
      " [ 0.    0.    0.    0.  ]\n",
      " [ 0.    0.    0.    0.  ]\n",
      " [ 0.    0.    0.    0.  ]\n",
      " [ 0.    0.    0.    0.  ]\n",
      " [ 0.    0.    0.    0.  ]\n",
      " [ 0.    0.    0.    0.  ]\n",
      " [ 0.    0.    0.    0.  ]\n",
      " [ 0.    0.    0.    0.  ]\n",
      " [ 0.    0.    0.    0.  ]\n",
      " [ 0.    0.    0.    0.  ]\n",
      " [ 0.    0.    0.    0.  ]\n",
      " [ 0.    0.    0.    0.  ]\n",
      " [ 0.    0.    0.    0.  ]\n",
      " [ 0.    0.    0.    0.  ]\n",
      " [ 0.    0.    0.    0.  ]\n",
      " [ 0.    0.    0.    0.  ]\n",
      " [ 0.    0.    0.    0.  ]\n",
      " [ 0.    0.    0.    0.  ]\n",
      " [ 0.    0.    0.    0.  ]\n",
      " [ 0.    0.    0.    0.  ]\n",
      " [ 0.    0.    0.    0.  ]\n",
      " [ 0.    0.    0.    0.  ]\n",
      " [ 0.    0.    0.    0.  ]\n",
      " [ 0.    0.    0.    0.  ]\n",
      " [ 0.    0.    0.    0.  ]\n",
      " [ 0.    0.    0.    0.  ]\n",
      " [ 0.    0.    0.    0.  ]\n",
      " [ 0.    0.    0.    0.  ]\n",
      " [ 0.    0.    0.    0.  ]\n",
      " [ 0.    0.    0.    0.  ]\n",
      " [ 0.    0.    0.    0.  ]\n",
      " [ 0.    0.    0.    0.  ]\n",
      " [ 0.    0.    0.    0.  ]\n",
      " [ 0.    0.    0.    0.  ]\n",
      " [ 0.    0.    0.    0.  ]\n",
      " [ 0.    0.    0.    0.  ]\n",
      " [ 0.    0.    0.    0.  ]]\n",
      "Матрица VT размер:(4, 4) :\n",
      "[[-0.49  0.02 -0.8   0.36]\n",
      " [-0.39  0.89  0.22 -0.08]\n",
      " [-0.55 -0.31 -0.02 -0.77]\n",
      " [-0.55 -0.34  0.56  0.52]]\n"
     ]
    }
   ],
   "source": [
    "print(f'Матрица U размер:{shape(U)} :\\n{U}')\n",
    "print(f'Матрица Sigma размер:{shape(Sigma)} :\\n{Sigma}')\n",
    "print(f'Матрица VT размер:{shape(VT)} :\\n{VT}')"
   ]
  },
  {
   "cell_type": "markdown",
   "metadata": {},
   "source": [
    "$$\\left \\|\\Sigma \\right \\|=\\sqrt{\\sum_{i=1}^{m}\\sum_{j=1}^{n}\\sigma_{ij}^{2}}.$$\n",
    "\n",
    "$\\left \\| \\Sigma \\right \\|_F = \\sqrt{12.06^2+3.85^2+1.23^2+0.6^2}= \\sqrt{163.086}=12.77$\n",
    "\n",
    "$r_1=\\frac{12.06}{12.77}=0.9443$\n",
    "\n",
    "\n",
    "$r_2=\\frac{3.85}{12.77}=0.30147$\n",
    "\n",
    "\n",
    "$r_3=\\frac{1.23}{12.77}=0.0963$\n",
    "\n",
    "\n",
    "$r_4=\\frac{0.6}{12.77}=0.0469$\n",
    "\n",
    "уменьшим количество признаков до 2 (ранг2)"
   ]
  },
  {
   "cell_type": "markdown",
   "metadata": {},
   "source": [
    "Уменьшим размерность до 2 признаков "
   ]
  },
  {
   "cell_type": "markdown",
   "metadata": {},
   "source": [
    "__Способ 1 - \"как в интернете\"__"
   ]
  },
  {
   "cell_type": "code",
   "execution_count": 894,
   "metadata": {},
   "outputs": [
    {
     "data": {
      "text/plain": [
       "array([[-0.03,  0.14],\n",
       "       [-0.03,  0.09],\n",
       "       [-0.02,  0.11],\n",
       "       [-0.02,  0.1 ],\n",
       "       [-0.03,  0.15]])"
      ]
     },
     "execution_count": 894,
     "metadata": {},
     "output_type": "execute_result"
    }
   ],
   "source": [
    "newdata = U[:,:2]\n",
    "newdata[:5]"
   ]
  },
  {
   "cell_type": "markdown",
   "metadata": {},
   "source": [
    "Сделаем категоризацию по новым признакам"
   ]
  },
  {
   "cell_type": "code",
   "execution_count": 895,
   "metadata": {},
   "outputs": [
    {
     "data": {
      "image/png": "[encoded data removed]",
      "text/plain": [
       "<Figure size 432x288 with 1 Axes>"
      ]
     },
     "metadata": {
      "needs_background": "light"
     },
     "output_type": "display_data"
    }
   ],
   "source": [
    "fig = plt.figure()\n",
    "ax = fig.add_subplot(1,1,1)\n",
    "colors = ['blue','red','black']\n",
    "for i in range(samples):\n",
    "    ax.scatter(newdata[i,0],newdata[i,1], color=colors[int(iris_frame.iloc[i,-2])])\n",
    "plt.xlabel('SVD1')\n",
    "plt.ylabel('SVD2')\n",
    "plt.show()"
   ]
  },
  {
   "cell_type": "markdown",
   "metadata": {},
   "source": [
    "Проведем классификацию испльзуя метод k-means"
   ]
  },
  {
   "cell_type": "code",
   "execution_count": 896,
   "metadata": {},
   "outputs": [
    {
     "name": "stdout",
     "output_type": "stream",
     "text": [
      "[[-0.04 -0.07]\n",
      " [-0.11 -0.02]\n",
      " [-0.13 -0.02]\n",
      " [-0.08 -0.08]\n",
      " [-0.1  -0.08]\n",
      " [-0.06 -0.03]\n",
      " [-0.13 -0.05]\n",
      " [-0.1   0.02]\n",
      " [-0.06 -0.03]\n",
      " [-0.09 -0.05]\n",
      " [-0.09 -0.03]\n",
      " [-0.07 -0.06]\n",
      " [-0.09 -0.07]\n",
      " [-0.1   0.02]\n",
      " [-0.11 -0.03]\n",
      " [-0.09  0.03]\n",
      " [-0.03  0.09]\n",
      " [-0.09 -0.05]\n",
      " [-0.07 -0.02]\n",
      " [-0.07  0.01]\n",
      " [-0.07 -0.03]\n",
      " [-0.09  0.  ]\n",
      " [-0.12 -0.01]\n",
      " [-0.04  0.15]\n",
      " [-0.01  0.1 ]\n",
      " [-0.1  -0.05]\n",
      " [-0.08  0.01]\n",
      " [-0.04  0.12]\n",
      " [-0.06  0.22]\n",
      " [-0.1   0.01]\n",
      " [-0.02  0.1 ]\n",
      " [-0.1  -0.02]\n",
      " [-0.05 -0.01]\n",
      " [-0.03  0.12]\n",
      " [-0.08 -0.08]\n",
      " [-0.14  0.  ]\n",
      " [-0.08  0.  ]\n",
      " [-0.02  0.09]\n",
      " [-0.12 -0.04]\n",
      " [-0.12 -0.03]\n",
      " [-0.12 -0.04]\n",
      " [-0.11 -0.06]\n",
      " [-0.04  0.16]\n",
      " [-0.03  0.12]\n",
      " [-0.11 -0.01]\n",
      " [-0.12 -0.01]\n",
      " [-0.01  0.02]\n",
      " [-0.12 -0.  ]\n",
      " [-0.03  0.09]\n",
      " [-0.09 -0.07]\n",
      " [-0.12 -0.02]\n",
      " [-0.02  0.11]\n",
      " [-0.03  0.15]\n",
      " [-0.11 -0.02]\n",
      " [-0.04  0.13]\n",
      " [-0.02  0.09]\n",
      " [-0.05  0.16]\n",
      " [-0.06 -0.05]\n",
      " [-0.12 -0.03]\n",
      " [-0.13 -0.05]\n",
      " [-0.03  0.14]\n",
      " [-0.03  0.1 ]\n",
      " [-0.03  0.13]\n",
      " [-0.08 -0.01]\n",
      " [-0.09  0.01]\n",
      " [-0.03  0.11]\n",
      " [-0.04  0.1 ]\n",
      " [-0.08  0.  ]\n",
      " [-0.04  0.12]\n",
      " [-0.13 -0.1 ]\n",
      " [-0.05 -0.02]\n",
      " [-0.14  0.04]\n",
      " [-0.09  0.02]\n",
      " [-0.04  0.2 ]\n",
      " [-0.09 -0.02]\n",
      " [-0.05  0.19]\n",
      " [-0.13 -0.07]\n",
      " [-0.04  0.16]\n",
      " [-0.03  0.1 ]\n",
      " [-0.12 -0.05]\n",
      " [-0.03  0.12]\n",
      " [-0.12 -0.01]\n",
      " [-0.07 -0.01]\n",
      " [-0.07 -0.01]\n",
      " [-0.06 -0.01]\n",
      " [-0.12 -0.02]\n",
      " [-0.11 -0.04]\n",
      " [-0.09 -0.05]\n",
      " [-0.1  -0.01]\n",
      " [-0.03  0.09]\n",
      " [-0.06 -0.03]\n",
      " [-0.12 -0.04]\n",
      " [-0.09 -0.05]\n",
      " [-0.03  0.13]\n",
      " [-0.09 -0.  ]\n",
      " [-0.08  0.01]\n",
      " [-0.1   0.  ]\n",
      " [-0.08 -0.06]\n",
      " [-0.04  0.14]\n",
      " [-0.04  0.15]\n",
      " [-0.03  0.1 ]\n",
      " [-0.1  -0.04]\n",
      " [-0.07 -0.01]\n",
      " [-0.15  0.02]\n",
      " [-0.02  0.11]]\n",
      "[[-0.1  -0.06]\n",
      " [-0.06 -0.05]\n",
      " [-0.05  0.2 ]\n",
      " [-0.12 -0.04]\n",
      " [-0.03  0.13]\n",
      " [-0.12 -0.03]\n",
      " [-0.03  0.13]\n",
      " [-0.1   0.01]\n",
      " [-0.09 -0.02]\n",
      " [-0.08 -0.01]\n",
      " [-0.09 -0.05]\n",
      " [-0.09  0.02]\n",
      " [-0.08 -0.01]\n",
      " [-0.09 -0.02]\n",
      " [-0.09 -0.01]\n",
      " [-0.03  0.15]\n",
      " [-0.09 -0.01]\n",
      " [-0.07 -0.03]\n",
      " [-0.03  0.08]\n",
      " [-0.05  0.17]\n",
      " [-0.09 -0.04]\n",
      " [-0.08 -0.  ]\n",
      " [-0.03  0.12]\n",
      " [-0.02  0.08]\n",
      " [-0.09 -0.03]\n",
      " [-0.03  0.15]\n",
      " [-0.05  0.15]\n",
      " [-0.08  0.  ]\n",
      " [-0.05 -0.03]\n",
      " [-0.04  0.12]\n",
      " [-0.11 -0.01]\n",
      " [-0.08 -0.  ]\n",
      " [-0.04  0.14]\n",
      " [-0.1  -0.02]\n",
      " [-0.11 -0.06]\n",
      " [-0.07 -0.02]\n",
      " [-0.05  0.16]\n",
      " [-0.09 -0.04]\n",
      " [-0.08  0.  ]\n",
      " [-0.07 -0.02]\n",
      " [-0.11 -0.03]\n",
      " [-0.02  0.11]\n",
      " [-0.12 -0.03]\n",
      " [-0.04  0.12]\n",
      " [-0.04  0.15]]\n",
      "60     1\n",
      "116    2\n",
      "144    2\n",
      "119    2\n",
      "108    2\n",
      "      ..\n",
      "9      0\n",
      "103    2\n",
      "67     1\n",
      "117    2\n",
      "47     0\n",
      "Name: target, Length: 105, dtype: int64\n",
      "114    2\n",
      "62     1\n",
      "33     0\n",
      "107    2\n",
      "7      0\n",
      "100    2\n",
      "40     0\n",
      "86     1\n",
      "76     1\n",
      "71     1\n",
      "134    2\n",
      "51     1\n",
      "73     1\n",
      "54     1\n",
      "63     1\n",
      "37     0\n",
      "78     1\n",
      "90     1\n",
      "45     0\n",
      "16     0\n",
      "121    2\n",
      "66     1\n",
      "24     0\n",
      "8      0\n",
      "126    2\n",
      "22     0\n",
      "44     0\n",
      "97     1\n",
      "93     1\n",
      "26     0\n",
      "137    2\n",
      "84     1\n",
      "27     0\n",
      "127    2\n",
      "132    2\n",
      "59     1\n",
      "18     0\n",
      "83     1\n",
      "61     1\n",
      "92     1\n",
      "112    2\n",
      "2      0\n",
      "141    2\n",
      "43     0\n",
      "10     0\n",
      "Name: target, dtype: int64\n"
     ]
    }
   ],
   "source": [
    "train_data, test_data, train_labels, test_labels = train_test_split(\n",
    "    newdata, iris_frame['target'], test_size = 0.3,random_state = 0)\n",
    "print (train_data)\n",
    "print (test_data)\n",
    "print (train_labels)\n",
    "print (test_labels)"
   ]
  },
  {
   "cell_type": "code",
   "execution_count": 907,
   "metadata": {},
   "outputs": [
    {
     "name": "stdout",
     "output_type": "stream",
     "text": [
      "0.9111111111111111\n",
      "              precision    recall  f1-score   support\n",
      "\n",
      "           0       1.00      1.00      1.00        16\n",
      "           1       0.89      0.89      0.89        18\n",
      "           2       0.82      0.82      0.82        11\n",
      "\n",
      "    accuracy                           0.91        45\n",
      "   macro avg       0.90      0.90      0.90        45\n",
      "weighted avg       0.91      0.91      0.91        45\n",
      "\n"
     ]
    }
   ],
   "source": [
    "model = KMeans(n_clusters=3)\n",
    "model.fit(train_data)\n",
    "model_predictions = model.predict(test_data)\n",
    "print(metrics.accuracy_score(test_labels, model_predictions))\n",
    "print(metrics.classification_report(test_labels, model_predictions))"
   ]
  },
  {
   "cell_type": "markdown",
   "metadata": {},
   "source": [
    "сравним с первоначальной матрицей данных:"
   ]
  },
  {
   "cell_type": "code",
   "execution_count": 915,
   "metadata": {},
   "outputs": [
    {
     "name": "stdout",
     "output_type": "stream",
     "text": [
      "0.9111111111111111\n",
      "              precision    recall  f1-score   support\n",
      "\n",
      "           0       1.00      1.00      1.00        16\n",
      "           1       0.82      1.00      0.90        18\n",
      "           2       1.00      0.64      0.78        11\n",
      "\n",
      "    accuracy                           0.91        45\n",
      "   macro avg       0.94      0.88      0.89        45\n",
      "weighted avg       0.93      0.91      0.91        45\n",
      "\n"
     ]
    }
   ],
   "source": [
    "train_data, test_data, train_labels, test_labels = train_test_split(\n",
    "    iris_frame[['sepal length (cm)','sepal width (cm)','petal length (cm)','petal width (cm)']],\n",
    "    iris_frame[['target']], test_size = 0.3,random_state = 0)\n",
    "model = KMeans(n_clusters=3)\n",
    "model.fit(train_data)\n",
    "model_predictions = model.predict(test_data)\n",
    "print(metrics.accuracy_score(test_labels, model_predictions))\n",
    "print(metrics.classification_report(test_labels, model_predictions))"
   ]
  },
  {
   "cell_type": "markdown",
   "metadata": {},
   "source": [
    "k-mean не стабильный метод - сильно зависит от первоначально выбранных точках, есть идея увеличить предсказание на тесте использовав метод классификации Stochastic Gradient Descent и оставив одну переменную"
   ]
  },
  {
   "cell_type": "code",
   "execution_count": 916,
   "metadata": {},
   "outputs": [
    {
     "data": {
      "text/plain": [
       "array([[-0.03],\n",
       "       [-0.03],\n",
       "       [-0.02],\n",
       "       [-0.02],\n",
       "       [-0.03]])"
      ]
     },
     "execution_count": 916,
     "metadata": {},
     "output_type": "execute_result"
    }
   ],
   "source": [
    "newdata_2 = U[:,:1]\n",
    "newdata_2[:5]"
   ]
  },
  {
   "cell_type": "code",
   "execution_count": 945,
   "metadata": {},
   "outputs": [
    {
     "name": "stdout",
     "output_type": "stream",
     "text": [
      "0.7777777777777778\n",
      "              precision    recall  f1-score   support\n",
      "\n",
      "           0       0.95      1.00      0.98        21\n",
      "           1       0.00      0.00      0.00        10\n",
      "           2       0.61      1.00      0.76        14\n",
      "\n",
      "    accuracy                           0.78        45\n",
      "   macro avg       0.52      0.67      0.58        45\n",
      "weighted avg       0.63      0.78      0.69        45\n",
      "\n"
     ]
    },
    {
     "name": "stderr",
     "output_type": "stream",
     "text": [
      "/Users/ksndr/opt/anaconda3/lib/python3.7/site-packages/sklearn/metrics/classification.py:1437: UndefinedMetricWarning: Precision and F-score are ill-defined and being set to 0.0 in labels with no predicted samples.\n",
      "  'precision', 'predicted', average, warn_for)\n"
     ]
    }
   ],
   "source": [
    "train_data, test_data, train_labels, test_labels = train_test_split(\n",
    "    newdata_2, iris_frame['target'], test_size = 0.3)\n",
    "\n",
    "#print train_data\n",
    "#print test_data[:2] \n",
    "#print train_labels\n",
    "#print test_labels[:2] \n",
    "\n",
    "clf = linear_model.SGDClassifier(alpha=0.0009, max_iter=1000, random_state = 42)\n",
    "clf.fit(train_data, train_labels)\n",
    "\n",
    "clf_predictions = clf.predict(test_data)\n",
    "\n",
    "print(metrics.accuracy_score(test_labels, clf_predictions))\n",
    "print(metrics.classification_report(test_labels, clf_predictions))"
   ]
  },
  {
   "cell_type": "markdown",
   "metadata": {},
   "source": [
    "__Способ-2 - как в 5 уроке__"
   ]
  },
  {
   "cell_type": "code",
   "execution_count": 1030,
   "metadata": {},
   "outputs": [
    {
     "data": {
      "text/html": [
       "<div>\n",
       "<style scoped>\n",
       "    .dataframe tbody tr th:only-of-type {\n",
       "        vertical-align: middle;\n",
       "    }\n",
       "\n",
       "    .dataframe tbody tr th {\n",
       "        vertical-align: top;\n",
       "    }\n",
       "\n",
       "    .dataframe thead th {\n",
       "        text-align: right;\n",
       "    }\n",
       "</style>\n",
       "<table border=\"1\" class=\"dataframe\">\n",
       "  <thead>\n",
       "    <tr style=\"text-align: right;\">\n",
       "      <th></th>\n",
       "      <th>sepal length (cm)</th>\n",
       "      <th>sepal width (cm)</th>\n",
       "      <th>petal length (cm)</th>\n",
       "      <th>petal width (cm)</th>\n",
       "    </tr>\n",
       "  </thead>\n",
       "  <tbody>\n",
       "    <tr>\n",
       "      <td>0</td>\n",
       "      <td>5.1</td>\n",
       "      <td>3.5</td>\n",
       "      <td>1.4</td>\n",
       "      <td>0.2</td>\n",
       "    </tr>\n",
       "    <tr>\n",
       "      <td>1</td>\n",
       "      <td>4.9</td>\n",
       "      <td>3.0</td>\n",
       "      <td>1.4</td>\n",
       "      <td>0.2</td>\n",
       "    </tr>\n",
       "    <tr>\n",
       "      <td>2</td>\n",
       "      <td>4.7</td>\n",
       "      <td>3.2</td>\n",
       "      <td>1.3</td>\n",
       "      <td>0.2</td>\n",
       "    </tr>\n",
       "    <tr>\n",
       "      <td>3</td>\n",
       "      <td>4.6</td>\n",
       "      <td>3.1</td>\n",
       "      <td>1.5</td>\n",
       "      <td>0.2</td>\n",
       "    </tr>\n",
       "    <tr>\n",
       "      <td>4</td>\n",
       "      <td>5.0</td>\n",
       "      <td>3.6</td>\n",
       "      <td>1.4</td>\n",
       "      <td>0.2</td>\n",
       "    </tr>\n",
       "    <tr>\n",
       "      <td>...</td>\n",
       "      <td>...</td>\n",
       "      <td>...</td>\n",
       "      <td>...</td>\n",
       "      <td>...</td>\n",
       "    </tr>\n",
       "    <tr>\n",
       "      <td>145</td>\n",
       "      <td>6.7</td>\n",
       "      <td>3.0</td>\n",
       "      <td>5.2</td>\n",
       "      <td>2.3</td>\n",
       "    </tr>\n",
       "    <tr>\n",
       "      <td>146</td>\n",
       "      <td>6.3</td>\n",
       "      <td>2.5</td>\n",
       "      <td>5.0</td>\n",
       "      <td>1.9</td>\n",
       "    </tr>\n",
       "    <tr>\n",
       "      <td>147</td>\n",
       "      <td>6.5</td>\n",
       "      <td>3.0</td>\n",
       "      <td>5.2</td>\n",
       "      <td>2.0</td>\n",
       "    </tr>\n",
       "    <tr>\n",
       "      <td>148</td>\n",
       "      <td>6.2</td>\n",
       "      <td>3.4</td>\n",
       "      <td>5.4</td>\n",
       "      <td>2.3</td>\n",
       "    </tr>\n",
       "    <tr>\n",
       "      <td>149</td>\n",
       "      <td>5.9</td>\n",
       "      <td>3.0</td>\n",
       "      <td>5.1</td>\n",
       "      <td>1.8</td>\n",
       "    </tr>\n",
       "  </tbody>\n",
       "</table>\n",
       "<p>150 rows × 4 columns</p>\n",
       "</div>"
      ],
      "text/plain": [
       "     sepal length (cm)  sepal width (cm)  petal length (cm)  petal width (cm)\n",
       "0                  5.1               3.5                1.4               0.2\n",
       "1                  4.9               3.0                1.4               0.2\n",
       "2                  4.7               3.2                1.3               0.2\n",
       "3                  4.6               3.1                1.5               0.2\n",
       "4                  5.0               3.6                1.4               0.2\n",
       "..                 ...               ...                ...               ...\n",
       "145                6.7               3.0                5.2               2.3\n",
       "146                6.3               2.5                5.0               1.9\n",
       "147                6.5               3.0                5.2               2.0\n",
       "148                6.2               3.4                5.4               2.3\n",
       "149                5.9               3.0                5.1               1.8\n",
       "\n",
       "[150 rows x 4 columns]"
      ]
     },
     "execution_count": 1030,
     "metadata": {},
     "output_type": "execute_result"
    }
   ],
   "source": [
    "A = iris_frame.iloc[:,:4]\n",
    "A"
   ]
  },
  {
   "cell_type": "code",
   "execution_count": 1031,
   "metadata": {},
   "outputs": [],
   "source": [
    "U, s, W = np.linalg.svd(A)"
   ]
  },
  {
   "cell_type": "code",
   "execution_count": 1032,
   "metadata": {},
   "outputs": [],
   "source": [
    "# Транспонируем матрицу W\n",
    "VT = W.T\n",
    "\n",
    "# s - список диагональных элементов, его нужно привести к виду диагональной матрицы для наглядности\n",
    "Sigma = np.zeros_like(A, dtype=float)\n",
    "Sigma[np.diag_indices(min(A.shape))] = s"
   ]
  },
  {
   "cell_type": "code",
   "execution_count": 1033,
   "metadata": {},
   "outputs": [
    {
     "name": "stdout",
     "output_type": "stream",
     "text": [
      "Матрица U размер:(150, 150) :\n",
      "[[-0.06  0.13  0.   ... -0.09 -0.1  -0.08]\n",
      " [-0.06  0.11  0.07 ...  0.04 -0.03  0.01]\n",
      " [-0.06  0.12  0.   ...  0.03  0.2   0.14]\n",
      " ...\n",
      " [-0.09 -0.05 -0.04 ...  0.98 -0.02 -0.01]\n",
      " [-0.09 -0.06 -0.21 ... -0.02  0.94 -0.03]\n",
      " [-0.09 -0.05 -0.1  ... -0.01 -0.03  0.97]]\n",
      "Матрица Sigma размер:(150, 4) :\n",
      "[[95.96  0.    0.    0.  ]\n",
      " [ 0.   17.76  0.    0.  ]\n",
      " [ 0.    0.    3.46  0.  ]\n",
      " [ 0.    0.    0.    1.88]\n",
      " [ 0.    0.    0.    0.  ]\n",
      " [ 0.    0.    0.    0.  ]\n",
      " [ 0.    0.    0.    0.  ]\n",
      " [ 0.    0.    0.    0.  ]\n",
      " [ 0.    0.    0.    0.  ]\n",
      " [ 0.    0.    0.    0.  ]\n",
      " [ 0.    0.    0.    0.  ]\n",
      " [ 0.    0.    0.    0.  ]\n",
      " [ 0.    0.    0.    0.  ]\n",
      " [ 0.    0.    0.    0.  ]\n",
      " [ 0.    0.    0.    0.  ]\n",
      " [ 0.    0.    0.    0.  ]\n",
      " [ 0.    0.    0.    0.  ]\n",
      " [ 0.    0.    0.    0.  ]\n",
      " [ 0.    0.    0.    0.  ]\n",
      " [ 0.    0.    0.    0.  ]\n",
      " [ 0.    0.    0.    0.  ]\n",
      " [ 0.    0.    0.    0.  ]\n",
      " [ 0.    0.    0.    0.  ]\n",
      " [ 0.    0.    0.    0.  ]\n",
      " [ 0.    0.    0.    0.  ]\n",
      " [ 0.    0.    0.    0.  ]\n",
      " [ 0.    0.    0.    0.  ]\n",
      " [ 0.    0.    0.    0.  ]\n",
      " [ 0.    0.    0.    0.  ]\n",
      " [ 0.    0.    0.    0.  ]\n",
      " [ 0.    0.    0.    0.  ]\n",
      " [ 0.    0.    0.    0.  ]\n",
      " [ 0.    0.    0.    0.  ]\n",
      " [ 0.    0.    0.    0.  ]\n",
      " [ 0.    0.    0.    0.  ]\n",
      " [ 0.    0.    0.    0.  ]\n",
      " [ 0.    0.    0.    0.  ]\n",
      " [ 0.    0.    0.    0.  ]\n",
      " [ 0.    0.    0.    0.  ]\n",
      " [ 0.    0.    0.    0.  ]\n",
      " [ 0.    0.    0.    0.  ]\n",
      " [ 0.    0.    0.    0.  ]\n",
      " [ 0.    0.    0.    0.  ]\n",
      " [ 0.    0.    0.    0.  ]\n",
      " [ 0.    0.    0.    0.  ]\n",
      " [ 0.    0.    0.    0.  ]\n",
      " [ 0.    0.    0.    0.  ]\n",
      " [ 0.    0.    0.    0.  ]\n",
      " [ 0.    0.    0.    0.  ]\n",
      " [ 0.    0.    0.    0.  ]\n",
      " [ 0.    0.    0.    0.  ]\n",
      " [ 0.    0.    0.    0.  ]\n",
      " [ 0.    0.    0.    0.  ]\n",
      " [ 0.    0.    0.    0.  ]\n",
      " [ 0.    0.    0.    0.  ]\n",
      " [ 0.    0.    0.    0.  ]\n",
      " [ 0.    0.    0.    0.  ]\n",
      " [ 0.    0.    0.    0.  ]\n",
      " [ 0.    0.    0.    0.  ]\n",
      " [ 0.    0.    0.    0.  ]\n",
      " [ 0.    0.    0.    0.  ]\n",
      " [ 0.    0.    0.    0.  ]\n",
      " [ 0.    0.    0.    0.  ]\n",
      " [ 0.    0.    0.    0.  ]\n",
      " [ 0.    0.    0.    0.  ]\n",
      " [ 0.    0.    0.    0.  ]\n",
      " [ 0.    0.    0.    0.  ]\n",
      " [ 0.    0.    0.    0.  ]\n",
      " [ 0.    0.    0.    0.  ]\n",
      " [ 0.    0.    0.    0.  ]\n",
      " [ 0.    0.    0.    0.  ]\n",
      " [ 0.    0.    0.    0.  ]\n",
      " [ 0.    0.    0.    0.  ]\n",
      " [ 0.    0.    0.    0.  ]\n",
      " [ 0.    0.    0.    0.  ]\n",
      " [ 0.    0.    0.    0.  ]\n",
      " [ 0.    0.    0.    0.  ]\n",
      " [ 0.    0.    0.    0.  ]\n",
      " [ 0.    0.    0.    0.  ]\n",
      " [ 0.    0.    0.    0.  ]\n",
      " [ 0.    0.    0.    0.  ]\n",
      " [ 0.    0.    0.    0.  ]\n",
      " [ 0.    0.    0.    0.  ]\n",
      " [ 0.    0.    0.    0.  ]\n",
      " [ 0.    0.    0.    0.  ]\n",
      " [ 0.    0.    0.    0.  ]\n",
      " [ 0.    0.    0.    0.  ]\n",
      " [ 0.    0.    0.    0.  ]\n",
      " [ 0.    0.    0.    0.  ]\n",
      " [ 0.    0.    0.    0.  ]\n",
      " [ 0.    0.    0.    0.  ]\n",
      " [ 0.    0.    0.    0.  ]\n",
      " [ 0.    0.    0.    0.  ]\n",
      " [ 0.    0.    0.    0.  ]\n",
      " [ 0.    0.    0.    0.  ]\n",
      " [ 0.    0.    0.    0.  ]\n",
      " [ 0.    0.    0.    0.  ]\n",
      " [ 0.    0.    0.    0.  ]\n",
      " [ 0.    0.    0.    0.  ]\n",
      " [ 0.    0.    0.    0.  ]\n",
      " [ 0.    0.    0.    0.  ]\n",
      " [ 0.    0.    0.    0.  ]\n",
      " [ 0.    0.    0.    0.  ]\n",
      " [ 0.    0.    0.    0.  ]\n",
      " [ 0.    0.    0.    0.  ]\n",
      " [ 0.    0.    0.    0.  ]\n",
      " [ 0.    0.    0.    0.  ]\n",
      " [ 0.    0.    0.    0.  ]\n",
      " [ 0.    0.    0.    0.  ]\n",
      " [ 0.    0.    0.    0.  ]\n",
      " [ 0.    0.    0.    0.  ]\n",
      " [ 0.    0.    0.    0.  ]\n",
      " [ 0.    0.    0.    0.  ]\n",
      " [ 0.    0.    0.    0.  ]\n",
      " [ 0.    0.    0.    0.  ]\n",
      " [ 0.    0.    0.    0.  ]\n",
      " [ 0.    0.    0.    0.  ]\n",
      " [ 0.    0.    0.    0.  ]\n",
      " [ 0.    0.    0.    0.  ]\n",
      " [ 0.    0.    0.    0.  ]\n",
      " [ 0.    0.    0.    0.  ]\n",
      " [ 0.    0.    0.    0.  ]\n",
      " [ 0.    0.    0.    0.  ]\n",
      " [ 0.    0.    0.    0.  ]\n",
      " [ 0.    0.    0.    0.  ]\n",
      " [ 0.    0.    0.    0.  ]\n",
      " [ 0.    0.    0.    0.  ]\n",
      " [ 0.    0.    0.    0.  ]\n",
      " [ 0.    0.    0.    0.  ]\n",
      " [ 0.    0.    0.    0.  ]\n",
      " [ 0.    0.    0.    0.  ]\n",
      " [ 0.    0.    0.    0.  ]\n",
      " [ 0.    0.    0.    0.  ]\n",
      " [ 0.    0.    0.    0.  ]\n",
      " [ 0.    0.    0.    0.  ]\n",
      " [ 0.    0.    0.    0.  ]\n",
      " [ 0.    0.    0.    0.  ]\n",
      " [ 0.    0.    0.    0.  ]\n",
      " [ 0.    0.    0.    0.  ]\n",
      " [ 0.    0.    0.    0.  ]\n",
      " [ 0.    0.    0.    0.  ]\n",
      " [ 0.    0.    0.    0.  ]\n",
      " [ 0.    0.    0.    0.  ]\n",
      " [ 0.    0.    0.    0.  ]\n",
      " [ 0.    0.    0.    0.  ]\n",
      " [ 0.    0.    0.    0.  ]\n",
      " [ 0.    0.    0.    0.  ]\n",
      " [ 0.    0.    0.    0.  ]\n",
      " [ 0.    0.    0.    0.  ]\n",
      " [ 0.    0.    0.    0.  ]]\n",
      "Матрица VT размер:(4, 4) :\n",
      "[[-0.75  0.28  0.5   0.32]\n",
      " [-0.38  0.55 -0.68 -0.32]\n",
      " [-0.51 -0.71 -0.06 -0.48]\n",
      " [-0.17 -0.34 -0.54  0.75]]\n"
     ]
    }
   ],
   "source": [
    "print(f'Матрица U размер:{shape(U)} :\\n{U}')\n",
    "print(f'Матрица Sigma размер:{shape(Sigma)} :\\n{Sigma}')\n",
    "print(f'Матрица VT размер:{shape(VT)} :\\n{VT}')"
   ]
  },
  {
   "cell_type": "markdown",
   "metadata": {},
   "source": [
    "оценка влияния ранга на результат - нормирование матрицы D:\n",
    "\n",
    "норма Фробениуса:"
   ]
  },
  {
   "cell_type": "markdown",
   "metadata": {},
   "source": [
    "$$\\left \\|\\Sigma \\right \\|=\\sqrt{\\sum_{i=1}^{m}\\sum_{j=1}^{n}\\sigma_{ij}^{2}}.$$\n",
    "\n",
    "$\\left \\| \\Sigma \\right \\|_F = \\sqrt{95.96^2+17.76^2+3.46^2+1.88^2}= \\sqrt{9539.2452}=97.669$\n",
    "\n",
    "$r_1=\\frac{95.96}{97.669}=0.9825$\n",
    "\n",
    "\n",
    "$r_2=\\frac{17.76}{97.669}=0.1818$\n",
    "\n",
    "\n",
    "$r_3=\\frac{3.46}{97.669}=0.0354$\n",
    "\n",
    "\n",
    "$r_4=\\frac{1.88}{97.669}=0.0192$\n",
    "\n",
    "уменьшим количество признаков до 2 (ранг2)"
   ]
  },
  {
   "cell_type": "code",
   "execution_count": 1034,
   "metadata": {},
   "outputs": [
    {
     "name": "stdout",
     "output_type": "stream",
     "text": [
      "(150, 2)\n",
      "(4, 4)\n",
      "(150, 150)\n",
      "     sepal length (cm)  sepal width (cm)  petal length (cm)  petal width (cm)\n",
      "0                  5.1               3.5                1.4               0.2\n",
      "1                  4.9               3.0                1.4               0.2\n",
      "2                  4.7               3.2                1.3               0.2\n",
      "3                  4.6               3.1                1.5               0.2\n",
      "4                  5.0               3.6                1.4               0.2\n",
      "..                 ...               ...                ...               ...\n",
      "145                6.7               3.0                5.2               2.3\n",
      "146                6.3               2.5                5.0               1.9\n",
      "147                6.5               3.0                5.2               2.0\n",
      "148                6.2               3.4                5.4               2.3\n",
      "149                5.9               3.0                5.1               1.8\n",
      "\n",
      "[150 rows x 4 columns]\n",
      "[[5.1  3.51 1.4  0.2 ]\n",
      " [4.75 3.2  1.46 0.26]\n",
      " [4.69 3.22 1.31 0.19]\n",
      " [4.61 3.09 1.46 0.27]\n",
      " [5.07 3.51 1.36 0.19]\n",
      " [5.53 3.73 1.68 0.29]\n",
      " [4.73 3.23 1.36 0.21]\n",
      " [5.01 3.4  1.48 0.24]\n",
      " [4.38 2.93 1.39 0.26]\n",
      " [4.81 3.23 1.49 0.26]\n",
      " [5.4  3.71 1.5  0.22]\n",
      " [4.89 3.29 1.52 0.27]\n",
      " [4.68 3.16 1.41 0.24]\n",
      " [4.3  3.   1.09 0.13]\n",
      " [5.73 4.07 1.28 0.09]\n",
      " [5.9  4.13 1.48 0.17]\n",
      " [5.45 3.81 1.37 0.16]\n",
      " [5.1  3.49 1.43 0.22]\n",
      " [5.67 3.83 1.72 0.3 ]\n",
      " [5.25 3.61 1.45 0.21]\n",
      " [5.3  3.54 1.71 0.32]\n",
      " [5.21 3.55 1.51 0.24]\n",
      " [4.74 3.41 0.98 0.04]\n",
      " [5.07 3.32 1.77 0.37]\n",
      " [4.95 3.23 1.75 0.37]\n",
      " [4.85 3.2  1.63 0.33]\n",
      " [5.03 3.35 1.62 0.31]\n",
      " [5.18 3.53 1.5  0.24]\n",
      " [5.12 3.51 1.44 0.22]\n",
      " [4.74 3.16 1.54 0.29]\n",
      " [4.76 3.16 1.58 0.31]\n",
      " [5.27 3.55 1.62 0.28]\n",
      " [5.44 3.81 1.35 0.15]\n",
      " [5.66 3.99 1.34 0.13]\n",
      " [4.81 3.22 1.52 0.28]\n",
      " [4.86 3.37 1.29 0.17]\n",
      " [5.33 3.7  1.4  0.18]\n",
      " [5.01 3.47 1.31 0.17]\n",
      " [4.41 2.99 1.29 0.21]\n",
      " [5.07 3.44 1.5  0.25]\n",
      " [5.02 3.47 1.34 0.18]\n",
      " [4.16 2.72 1.48 0.32]\n",
      " [4.49 3.08 1.25 0.19]\n",
      " [5.08 3.37 1.67 0.32]\n",
      " [5.33 3.52 1.79 0.36]\n",
      " [4.68 3.14 1.48 0.27]\n",
      " [5.26 3.6  1.5  0.23]\n",
      " [4.64 3.15 1.37 0.22]\n",
      " [5.33 3.66 1.48 0.22]\n",
      " [4.94 3.37 1.42 0.22]\n",
      " [6.83 3.43 4.73 1.56]\n",
      " [6.41 3.19 4.5  1.49]\n",
      " [6.76 3.29 4.92 1.65]\n",
      " [5.33 2.51 4.06 1.38]\n",
      " [6.32 3.04 4.67 1.57]\n",
      " [5.78 2.73 4.38 1.49]\n",
      " [6.43 3.14 4.65 1.55]\n",
      " [4.85 2.47 3.29 1.08]\n",
      " [6.42 3.15 4.61 1.53]\n",
      " [5.3  2.57 3.88 1.3 ]\n",
      " [4.78 2.29 3.54 1.19]\n",
      " [5.94 2.94 4.22 1.4 ]\n",
      " [5.6  2.73 4.07 1.36]\n",
      " [6.12 2.9  4.62 1.57]\n",
      " [5.59 2.9  3.66 1.18]\n",
      " [6.54 3.31 4.46 1.46]\n",
      " [5.8  2.75 4.39 1.49]\n",
      " [5.71 2.84 4.01 1.33]\n",
      " [5.84 2.66 4.66 1.61]\n",
      " [5.46 2.69 3.9  1.3 ]\n",
      " [6.15 2.87 4.74 1.62]\n",
      " [5.94 3.   4.07 1.34]\n",
      " [6.11 2.76 4.92 1.7 ]\n",
      " [6.07 2.88 4.58 1.55]\n",
      " [6.23 3.12 4.34 1.43]\n",
      " [6.43 3.22 4.47 1.47]\n",
      " [6.54 3.14 4.85 1.63]\n",
      " [6.61 3.11 5.04 1.72]\n",
      " [6.02 2.88 4.48 1.51]\n",
      " [5.49 2.87 3.56 1.14]\n",
      " [5.34 2.62 3.82 1.27]\n",
      " [5.31 2.65 3.71 1.22]\n",
      " [5.68 2.85 3.93 1.29]\n",
      " [6.04 2.66 5.01 1.75]\n",
      " [5.68 2.66 4.35 1.48]\n",
      " [6.24 3.09 4.42 1.47]\n",
      " [6.59 3.24 4.73 1.57]\n",
      " [5.92 2.79 4.51 1.53]\n",
      " [5.73 2.85 4.02 1.33]\n",
      " [5.42 2.6  4.02 1.36]\n",
      " [5.54 2.58 4.27 1.46]\n",
      " [6.14 2.96 4.53 1.52]\n",
      " [5.66 2.79 4.02 1.34]\n",
      " [4.87 2.46 3.33 1.09]\n",
      " [5.61 2.7  4.15 1.4 ]\n",
      " [5.81 2.89 4.08 1.35]\n",
      " [5.76 2.83 4.13 1.38]\n",
      " [6.1  3.03 4.3  1.42]\n",
      " [4.97 2.64 3.12 0.98]\n",
      " [5.7  2.8  4.08 1.36]\n",
      " [6.69 2.78 5.94 2.11]\n",
      " [5.92 2.54 5.08 1.79]\n",
      " [7.05 3.06 5.94 2.08]\n",
      " [6.42 2.76 5.48 1.93]\n",
      " [6.64 2.81 5.78 2.05]\n",
      " [7.5  3.15 6.56 2.33]\n",
      " [5.14 2.19 4.42 1.56]\n",
      " [7.2  3.07 6.2  2.19]\n",
      " [6.54 2.72 5.78 2.06]\n",
      " [7.42 3.29 6.12 2.14]\n",
      " [6.6  3.05 5.14 1.76]\n",
      " [6.35 2.76 5.34 1.87]\n",
      " [6.78 3.01 5.58 1.94]\n",
      " [5.75 2.41 5.05 1.79]\n",
      " [5.98 2.52 5.22 1.85]\n",
      " [6.58 2.93 5.38 1.87]\n",
      " [6.58 2.91 5.42 1.89]\n",
      " [7.94 3.52 6.54 2.28]\n",
      " [7.45 2.93 6.96 2.51]\n",
      " [5.8  2.47 5.   1.77]\n",
      " [6.97 3.08 5.77 2.01]\n",
      " [5.8  2.52 4.9  1.72]\n",
      " [7.49 3.1  6.66 2.37]\n",
      " [6.21 2.81 4.98 1.72]\n",
      " [6.88 3.06 5.65 1.97]\n",
      " [7.21 3.21 5.89 2.05]\n",
      " [6.17 2.83 4.87 1.67]\n",
      " [6.21 2.85 4.89 1.68]\n",
      " [6.45 2.72 5.62 1.99]\n",
      " [7.08 3.19 5.71 1.98]\n",
      " [7.18 3.09 6.12 2.15]\n",
      " [8.   3.69 6.28 2.16]\n",
      " [6.45 2.71 5.65 2.  ]\n",
      " [6.28 2.85 5.02 1.73]\n",
      " [6.15 2.59 5.37 1.9 ]\n",
      " [7.48 3.27 6.27 2.19]\n",
      " [6.66 2.91 5.58 1.95]\n",
      " [6.56 2.91 5.38 1.87]\n",
      " [6.13 2.83 4.79 1.64]\n",
      " [6.87 3.12 5.5  1.9 ]\n",
      " [6.79 2.95 5.71 2.  ]\n",
      " [6.82 3.15 5.33 1.83]\n",
      " [5.92 2.54 5.08 1.79]\n",
      " [6.95 3.   5.91 2.08]\n",
      " [6.9  3.01 5.78 2.03]\n",
      " [6.67 3.   5.39 1.87]\n",
      " [6.14 2.69 5.13 1.8 ]\n",
      " [6.53 2.95 5.26 1.82]\n",
      " [6.56 2.92 5.38 1.87]\n",
      " [6.12 2.73 5.   1.74]]\n"
     ]
    }
   ],
   "source": [
    "n_elements = 2\n",
    "Sigma = Sigma[:, :n_elements]\n",
    "VT = VT[:,:n_elements]\n",
    "# reconstruct\n",
    "B = U.dot(Sigma.dot(VT.T))\n",
    "print(shape(Sigma))\n",
    "print(shape(W))\n",
    "print(shape(U))\n",
    "print(A)\n",
    "print(B)\n"
   ]
  },
  {
   "cell_type": "code",
   "execution_count": 1037,
   "metadata": {},
   "outputs": [],
   "source": [
    "# # transform\n",
    "# T = U.dot(Sigma)\n",
    "# print(T)\n",
    "# T = A.dot(VT)\n",
    "# print(T)"
   ]
  },
  {
   "cell_type": "markdown",
   "metadata": {},
   "source": [
    "Полученная матрица $B$ типо и есть матрица в которой что? уменьшено количество признаков влияющих на категоризацию? но цифорок меньше не стало...?\n",
    "ладно проверим - может на графиках будет что то заметно:"
   ]
  },
  {
   "cell_type": "code",
   "execution_count": 1040,
   "metadata": {},
   "outputs": [
    {
     "data": {
      "text/html": [
       "<div>\n",
       "<style scoped>\n",
       "    .dataframe tbody tr th:only-of-type {\n",
       "        vertical-align: middle;\n",
       "    }\n",
       "\n",
       "    .dataframe tbody tr th {\n",
       "        vertical-align: top;\n",
       "    }\n",
       "\n",
       "    .dataframe thead th {\n",
       "        text-align: right;\n",
       "    }\n",
       "</style>\n",
       "<table border=\"1\" class=\"dataframe\">\n",
       "  <thead>\n",
       "    <tr style=\"text-align: right;\">\n",
       "      <th></th>\n",
       "      <th>sepal length (cm)</th>\n",
       "      <th>sepal width (cm)</th>\n",
       "      <th>petal length (cm)</th>\n",
       "      <th>petal width (cm)</th>\n",
       "      <th>target</th>\n",
       "      <th>name</th>\n",
       "    </tr>\n",
       "  </thead>\n",
       "  <tbody>\n",
       "    <tr>\n",
       "      <td>0</td>\n",
       "      <td>5.095293</td>\n",
       "      <td>3.505977</td>\n",
       "      <td>1.401922</td>\n",
       "      <td>0.201653</td>\n",
       "      <td>0</td>\n",
       "      <td>setosa</td>\n",
       "    </tr>\n",
       "    <tr>\n",
       "      <td>1</td>\n",
       "      <td>4.745880</td>\n",
       "      <td>3.196109</td>\n",
       "      <td>1.461370</td>\n",
       "      <td>0.258003</td>\n",
       "      <td>0</td>\n",
       "      <td>setosa</td>\n",
       "    </tr>\n",
       "    <tr>\n",
       "      <td>2</td>\n",
       "      <td>4.686674</td>\n",
       "      <td>3.215863</td>\n",
       "      <td>1.309549</td>\n",
       "      <td>0.194527</td>\n",
       "      <td>0</td>\n",
       "      <td>setosa</td>\n",
       "    </tr>\n",
       "    <tr>\n",
       "      <td>3</td>\n",
       "      <td>4.614885</td>\n",
       "      <td>3.088944</td>\n",
       "      <td>1.463479</td>\n",
       "      <td>0.270027</td>\n",
       "      <td>0</td>\n",
       "      <td>setosa</td>\n",
       "    </tr>\n",
       "    <tr>\n",
       "      <td>4</td>\n",
       "      <td>5.074887</td>\n",
       "      <td>3.506231</td>\n",
       "      <td>1.364281</td>\n",
       "      <td>0.186400</td>\n",
       "      <td>0</td>\n",
       "      <td>setosa</td>\n",
       "    </tr>\n",
       "  </tbody>\n",
       "</table>\n",
       "</div>"
      ],
      "text/plain": [
       "   sepal length (cm)  sepal width (cm)  petal length (cm)  petal width (cm)  \\\n",
       "0           5.095293          3.505977           1.401922          0.201653   \n",
       "1           4.745880          3.196109           1.461370          0.258003   \n",
       "2           4.686674          3.215863           1.309549          0.194527   \n",
       "3           4.614885          3.088944           1.463479          0.270027   \n",
       "4           5.074887          3.506231           1.364281          0.186400   \n",
       "\n",
       "   target    name  \n",
       "0       0  setosa  \n",
       "1       0  setosa  \n",
       "2       0  setosa  \n",
       "3       0  setosa  \n",
       "4       0  setosa  "
      ]
     },
     "execution_count": 1040,
     "metadata": {},
     "output_type": "execute_result"
    }
   ],
   "source": [
    "# Для удобства манипулирования данными делаем из них DataFrame:\n",
    "iris_frame = DataFrame(B)\n",
    "# Делаем имена колонок такие же, как имена переменных:\n",
    "iris_frame.columns = iris.feature_names\n",
    "# Добавляем столбец с целевой переменной: \n",
    "iris_frame['target'] = iris.target\n",
    "# Для наглядности добавляем столбец с сортами: \n",
    "iris_frame['name'] = iris_frame.target.apply(lambda x : iris.target_names[x])\n",
    "# Смотрим, что получилось:\n",
    "\n",
    "samples,features = shape(iris_frame.iloc[:,:5])\n",
    "iris_frame[:5]"
   ]
  },
  {
   "cell_type": "code",
   "execution_count": 1041,
   "metadata": {},
   "outputs": [
    {
     "data": {
      "text/plain": [
       "<seaborn.axisgrid.PairGrid at 0x1a326bac90>"
      ]
     },
     "execution_count": 1041,
     "metadata": {},
     "output_type": "execute_result"
    },
    {
     "data": {
      "image/png": "[encoded data removed]",
      "text/plain": [
       "<Figure size 804.75x720 with 20 Axes>"
      ]
     },
     "metadata": {
      "needs_background": "light"
     },
     "output_type": "display_data"
    }
   ],
   "source": [
    "sns.pairplot(iris_frame[['sepal length (cm)','sepal width (cm)','petal length (cm)','petal width (cm)','name']], hue = 'name')"
   ]
  },
  {
   "cell_type": "markdown",
   "metadata": {},
   "source": [
    "    ...эээ ну типа два признака которые и так более менее коррелировались превратились в линию\n",
    "    \n",
    " попробуюем сделать корреляционную матрицу и сообственный вектор (1:19:25)"
   ]
  },
  {
   "cell_type": "code",
   "execution_count": 1057,
   "metadata": {},
   "outputs": [
    {
     "name": "stdout",
     "output_type": "stream",
     "text": [
      "(150, 150)\n",
      "[[1.   1.   1.   ... 0.65 0.63 0.63]\n",
      " [1.   1.   1.   ... 0.68 0.66 0.66]\n",
      " [1.   1.   1.   ... 0.65 0.63 0.64]\n",
      " ...\n",
      " [0.65 0.68 0.65 ... 1.   1.   1.  ]\n",
      " [0.63 0.66 0.63 ... 1.   1.   1.  ]\n",
      " [0.63 0.66 0.64 ... 1.   1.   1.  ]]\n"
     ]
    }
   ],
   "source": [
    "B_corr = np.corrcoef(B)\n",
    "print(shape(B_corr))\n",
    "print(B_corr)"
   ]
  },
  {
   "cell_type": "code",
   "execution_count": 1059,
   "metadata": {},
   "outputs": [
    {
     "name": "stdout",
     "output_type": "stream",
     "text": [
      "Матрица B_corr:\n",
      "[[1.   1.   1.   ... 0.65 0.63 0.63]\n",
      " [1.   1.   1.   ... 0.68 0.66 0.66]\n",
      " [1.   1.   1.   ... 0.65 0.63 0.64]\n",
      " ...\n",
      " [0.65 0.68 0.65 ... 1.   1.   1.  ]\n",
      " [0.63 0.66 0.63 ... 1.   1.   1.  ]\n",
      " [0.63 0.66 0.64 ... 1.   1.   1.  ]]\n",
      "Собственные значения:\n",
      "[129.08+0.j  20.92+0.j   0.  +0.j   0.  -0.j  -0.  +0.j  -0.  +0.j\n",
      "  -0.  +0.j  -0.  -0.j   0.  +0.j   0.  -0.j   0.  +0.j   0.  +0.j\n",
      "   0.  -0.j   0.  +0.j   0.  -0.j   0.  +0.j   0.  -0.j  -0.  +0.j\n",
      "  -0.  -0.j   0.  +0.j   0.  -0.j  -0.  +0.j  -0.  -0.j  -0.  +0.j\n",
      "  -0.  -0.j  -0.  +0.j  -0.  +0.j  -0.  -0.j   0.  +0.j   0.  -0.j\n",
      "   0.  +0.j   0.  -0.j   0.  +0.j   0.  -0.j  -0.  +0.j  -0.  -0.j\n",
      "  -0.  +0.j  -0.  +0.j  -0.  -0.j  -0.  +0.j  -0.  -0.j   0.  +0.j\n",
      "   0.  -0.j   0.  +0.j   0.  -0.j  -0.  +0.j  -0.  -0.j  -0.  +0.j\n",
      "  -0.  -0.j   0.  +0.j   0.  -0.j   0.  +0.j   0.  -0.j   0.  +0.j\n",
      "   0.  -0.j   0.  +0.j   0.  +0.j   0.  +0.j   0.  -0.j   0.  +0.j\n",
      "   0.  -0.j  -0.  +0.j  -0.  -0.j  -0.  +0.j  -0.  -0.j  -0.  +0.j\n",
      "  -0.  -0.j   0.  +0.j   0.  -0.j  -0.  +0.j  -0.  -0.j  -0.  +0.j\n",
      "  -0.  -0.j   0.  +0.j   0.  -0.j   0.  +0.j   0.  -0.j  -0.  +0.j\n",
      "  -0.  -0.j  -0.  +0.j  -0.  -0.j  -0.  +0.j  -0.  -0.j  -0.  +0.j\n",
      "  -0.  -0.j   0.  +0.j   0.  -0.j  -0.  +0.j  -0.  -0.j  -0.  +0.j\n",
      "   0.  +0.j   0.  -0.j  -0.  +0.j  -0.  -0.j   0.  +0.j   0.  -0.j\n",
      "   0.  +0.j   0.  -0.j   0.  +0.j   0.  -0.j   0.  +0.j   0.  -0.j\n",
      "  -0.  +0.j  -0.  -0.j  -0.  +0.j  -0.  -0.j  -0.  +0.j  -0.  -0.j\n",
      "   0.  +0.j   0.  -0.j   0.  +0.j   0.  -0.j  -0.  +0.j  -0.  -0.j\n",
      "   0.  +0.j  -0.  +0.j  -0.  -0.j  -0.  +0.j  -0.  -0.j  -0.  +0.j\n",
      "   0.  +0.j   0.  -0.j   0.  +0.j   0.  -0.j  -0.  +0.j  -0.  -0.j\n",
      "  -0.  +0.j  -0.  -0.j   0.  +0.j  -0.  +0.j  -0.  -0.j   0.  +0.j\n",
      "   0.  +0.j   0.  -0.j   0.  +0.j   0.  -0.j  -0.  +0.j   0.  +0.j\n",
      "   0.  +0.j   0.  -0.j  -0.  +0.j  -0.  -0.j   0.  +0.j   0.  -0.j\n",
      "  -0.  +0.j  -0.  -0.j   0.  +0.j   0.  -0.j  -0.  +0.j  -0.  +0.j]\n",
      "Собственные векторы:\n",
      "[[ 0.07+0.j   -0.12+0.j   -0.08-0.05j ... -0.02+0.j    0.04+0.j\n",
      "   0.03+0.j  ]\n",
      " [ 0.08+0.j   -0.11+0.j   -0.13+0.02j ... -0.01+0.j    0.01+0.j\n",
      "  -0.  +0.j  ]\n",
      " [ 0.07+0.j   -0.12+0.j   -0.03+0.07j ... -0.  +0.01j  0.02+0.j\n",
      "   0.01+0.j  ]\n",
      " ...\n",
      " [ 0.08+0.j    0.06+0.j   -0.1 +0.j   ...  0.03+0.1j   0.2 +0.j\n",
      "  -0.15+0.j  ]\n",
      " [ 0.08+0.j    0.07+0.j   -0.01-0.j   ... -0.07+0.j    0.11+0.j\n",
      "  -0.  +0.j  ]\n",
      " [ 0.08+0.j    0.07+0.j   -0.04-0.03j ...  0.08+0.04j  0.13+0.j\n",
      "  -0.1 +0.j  ]]\n"
     ]
    }
   ],
   "source": [
    "w, v = np.linalg.eig(B_corr)\n",
    "\n",
    "print(f'Матрица B_corr:\\n{B_corr}')\n",
    "print(f'Собственные значения:\\n{w}')\n",
    "print(f'Собственные векторы:\\n{v}')"
   ]
  },
  {
   "cell_type": "markdown",
   "metadata": {},
   "source": [
    "как это вообще то использовать это? 150 на 150 ??\n",
    "\n",
    "\n",
    "Попробуем транспонировать массив\n",
    "https://pyprog.pro/statistics_functions/corrcoef.html"
   ]
  },
  {
   "cell_type": "code",
   "execution_count": 1062,
   "metadata": {},
   "outputs": [
    {
     "name": "stdout",
     "output_type": "stream",
     "text": [
      "(4, 4)\n",
      "[[ 1.   -0.07  0.88  0.86]\n",
      " [-0.07  1.   -0.53 -0.57]\n",
      " [ 0.88 -0.53  1.    1.  ]\n",
      " [ 0.86 -0.57  1.    1.  ]]\n"
     ]
    }
   ],
   "source": [
    "B_corr_2 = np.corrcoef(B, rowvar = False)\n",
    "print(shape(B_corr_2))\n",
    "print(B_corr_2)"
   ]
  },
  {
   "cell_type": "code",
   "execution_count": 1064,
   "metadata": {},
   "outputs": [
    {
     "name": "stdout",
     "output_type": "stream",
     "text": [
      "Матрица B_corr_2:\n",
      "[[ 1.   -0.07  0.88  0.86]\n",
      " [-0.07  1.   -0.53 -0.57]\n",
      " [ 0.88 -0.53  1.    1.  ]\n",
      " [ 0.86 -0.57  1.    1.  ]]\n",
      "Собственные значения:\n",
      "[ 3.06 -0.    0.94  0.  ]\n",
      "Собственные векторы:\n",
      "[[-0.49  0.7  -0.52 -0.05]\n",
      " [ 0.32 -0.41 -0.85  0.07]\n",
      " [-0.57 -0.43 -0.04 -0.66]\n",
      " [-0.57 -0.4   0.01  0.75]]\n"
     ]
    }
   ],
   "source": [
    "w, v = np.linalg.eig(B_corr_2)\n",
    "\n",
    "print(f'Матрица B_corr_2:\\n{B_corr_2}')\n",
    "print(f'Собственные значения:\\n{w}')\n",
    "print(f'Собственные векторы:\\n{v}')"
   ]
  },
  {
   "cell_type": "markdown",
   "metadata": {},
   "source": [
    "    Вроде по легче (то что не 150 векторов,а 4, хотя и 4 многовато), но как использовать это в контексте задачи? подскажите пожалуста - я запутался"
   ]
  }
 ],
 "metadata": {
  "colab": {
   "collapsed_sections": [],
   "name": "Lesson_8-REVISED.ipynb",
   "provenance": []
  },
  "kernelspec": {
   "display_name": "Python 3",
   "language": "python",
   "name": "python3"
  },
  "language_info": {
   "codemirror_mode": {
    "name": "ipython",
    "version": 3
   },
   "file_extension": ".py",
   "mimetype": "text/x-python",
   "name": "python",
   "nbconvert_exporter": "python",
   "pygments_lexer": "ipython3",
   "version": "3.7.4"
  }
 },
 "nbformat": 4,
 "nbformat_minor": 1
}
